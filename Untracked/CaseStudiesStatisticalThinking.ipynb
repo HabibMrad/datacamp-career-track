{
 "cells": [
  {
   "cell_type": "markdown",
   "metadata": {},
   "source": [
    "## p-value\n",
    "\n",
    "The probability of obtaining a value of your *test statistic* that is *at least as extreme as* what was observed, under the assumption the *null hypothesis* is true.\n",
    "\n",
    "- Requires clear specification of:\n",
    "\t- *Null hypothesis* that can be simulated.\n",
    "\t- *Test statistic* that can be calculated from observed and simulated data.\n",
    "\t- Definition of *at least as extreme as*.\n",
    "\n",
    "\n",
    "### Pipeline for hypothesis testing\n",
    "\n",
    "- Clearly state the null hypothesis.\n",
    "- Define your test statistic.\n",
    "- Generate many sets of simulated data assuming the null hypothesis is true.\n",
    "- Compute the test statistic for each simulated data set.\n",
    "- The p-value is the fraction of your simulated data sets for which the test statistic is at least as extreme as for the real data.\n",
    "\n",
    "### Example:\n",
    "\n",
    "- Specifying the test:\n",
    "\t- Null hypothesis: the active bout lengths of wild type and heterozygotic fish are identically distributed.\n",
    "\t- Test statistic: difference in mean active bout length between heterozygotes and wild type.\n",
    "\t- At least as extreme as: test statistic is greater than or equal to what was obesrved.\n",
    "\n",
    "- Permutation test:\n",
    "\t- For each replicate:\n",
    "\t\t- Scramble labels of data points\n",
    "\t\t- Compute the test statistic\n",
    "\t\t~~~\n",
    "\t\tperm_reps = dcst.draw_perm_reps(data_a, data_b, dcst.diff_of_means, size=10000)\n",
    "\t\t~~~\n",
    "\n",
    "\t\t- p-value is fraction of replicates at least as extreme as what was observed.\n",
    "\t\t~~~\n",
    "\t\tp_val = np.sum(perm_reps >= diff_means_obs) / len(perm_reps)\n",
    "\t\t~~~\n"
   ]
  },
  {
   "cell_type": "markdown",
   "metadata": {},
   "source": [
    "### Hypothesis test for correlation\n",
    "\n",
    "- Posit null hypothesis: split time and split number are completely uncorrelated\n",
    "- Simulate data assuming null hypothesis is true\n",
    "~~~\n",
    "scrambled_split_number = np.random.permutation(split_number)\n",
    "~~~\n",
    "- Use Pearson correlation $\\rho$ as test statistic\n",
    "~~~\n",
    "rho = pearson_r(scrambled_split_number,splits)\n",
    "~~~\n",
    "- Compute the p-value as the fraction of replicates that have $\\rho$ at least as large as observed."
   ]
  },
  {
   "cell_type": "markdown",
   "metadata": {},
   "source": [
    "### Kolmogorov-Smirnov Test\n",
    "\n",
    "- Hypothesis: The time between Nankai Trough earthquakes is Normally distributes with a mean and std. deviation as calculated from the data.\n",
    "- Test statistic: Kolmogorov-Smirnov statistic\n",
    "- At least as extreme as: $\\geq$ observed K-S statistic\n",
    "\n",
    "#### Simulating the null hypothesis\n",
    "\n",
    "- Draw lots of samples out of the theoretical distribution and store them\n",
    "\t- Draw n samples out of the theoretical distribution\n",
    "\t- Compute the K-S statistic from the samples\n",
    "\n",
    "~~~\n",
    "# Generate samples from theoretical distribution\n",
    "x_f = np.random.normal(mean_time_gap, std_time_gap, size=10000)\n",
    "\n",
    "# Initialize K-S replicates\n",
    "reps = np.empty(1000)\n",
    "\n",
    "# Draw replicates\n",
    "for i in range(1000):\n",
    "\t#Draw samples for comparison\n",
    "\tx_samp = np.random.normal(mean_time_gap, std_time_gap, size=len(time_gap))\n",
    "\n",
    "\t# Compute K-S statistic\n",
    "\treps[i] = ks_stat(x_samp, x_f)\n",
    "\n",
    "p_val = np.sum(reps >= ks_stat(time_gap, x_f)) / 1000\n",
    "~~~"
   ]
  },
  {
   "cell_type": "code",
   "execution_count": null,
   "metadata": {},
   "outputs": [],
   "source": []
  }
 ],
 "metadata": {
  "kernelspec": {
   "display_name": "Python 3",
   "language": "python",
   "name": "python3"
  },
  "language_info": {
   "codemirror_mode": {
    "name": "ipython",
    "version": 3
   },
   "file_extension": ".py",
   "mimetype": "text/x-python",
   "name": "python",
   "nbconvert_exporter": "python",
   "pygments_lexer": "ipython3",
   "version": "3.7.3"
  }
 },
 "nbformat": 4,
 "nbformat_minor": 2
}
