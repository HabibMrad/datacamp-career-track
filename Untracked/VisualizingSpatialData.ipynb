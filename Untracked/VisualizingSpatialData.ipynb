{
 "cells": [
  {
   "cell_type": "markdown",
   "metadata": {},
   "source": [
    "## What you will learn in this course\n",
    "\n",
    "- How to plot geospatial points as scatterplots\n",
    "- How to plot geometries using `geopandas`\n",
    "- How to construct a `GeoDataFrame` from a `DatFrame`\n",
    "- How to spatially join datasets\n",
    "- How to add a street map to your plots\n",
    "- When and how to create a choropleth\n",
    "\n",
    "## Longitude and latitude\n"
   ]
  },
  {
   "cell_type": "code",
   "execution_count": 1,
   "metadata": {},
   "outputs": [],
   "source": [
    "import pandas as pd\n",
    "import matplotlib.pyplot as plt\n",
    "%matplotlib inline"
   ]
  },
  {
   "cell_type": "code",
   "execution_count": 2,
   "metadata": {},
   "outputs": [],
   "source": [
    "school = pd.read_csv('./DATASETS/schools.csv')"
   ]
  },
  {
   "cell_type": "code",
   "execution_count": 3,
   "metadata": {},
   "outputs": [
    {
     "data": {
      "text/html": [
       "<div>\n",
       "<style scoped>\n",
       "    .dataframe tbody tr th:only-of-type {\n",
       "        vertical-align: middle;\n",
       "    }\n",
       "\n",
       "    .dataframe tbody tr th {\n",
       "        vertical-align: top;\n",
       "    }\n",
       "\n",
       "    .dataframe thead th {\n",
       "        text-align: right;\n",
       "    }\n",
       "</style>\n",
       "<table border=\"1\" class=\"dataframe\">\n",
       "  <thead>\n",
       "    <tr style=\"text-align: right;\">\n",
       "      <th></th>\n",
       "      <th>School ID</th>\n",
       "      <th>School Name</th>\n",
       "      <th>Street Address</th>\n",
       "      <th>City</th>\n",
       "      <th>State</th>\n",
       "      <th>ZIP Code</th>\n",
       "      <th>Phone Number</th>\n",
       "      <th>School State ID</th>\n",
       "      <th>School Level</th>\n",
       "      <th>Lowest Grade</th>\n",
       "      <th>Highest Grade</th>\n",
       "      <th>Latitude</th>\n",
       "      <th>Longitude</th>\n",
       "      <th>School Website</th>\n",
       "      <th>Cluster</th>\n",
       "      <th>Mapped Location</th>\n",
       "    </tr>\n",
       "  </thead>\n",
       "  <tbody>\n",
       "    <tr>\n",
       "      <th>0</th>\n",
       "      <td>496</td>\n",
       "      <td>A. Z. Kelley Elementary</td>\n",
       "      <td>5834 Pettus Road</td>\n",
       "      <td>Antioch</td>\n",
       "      <td>TN</td>\n",
       "      <td>37013</td>\n",
       "      <td>(615)941-7535</td>\n",
       "      <td>1</td>\n",
       "      <td>Elementary School</td>\n",
       "      <td>Grade P3</td>\n",
       "      <td>Grade 4</td>\n",
       "      <td>36.021817</td>\n",
       "      <td>-86.658848</td>\n",
       "      <td>http://schools.mnps.org/az-kelley-elementary-s...</td>\n",
       "      <td>Cane Ridge</td>\n",
       "      <td>(36.02181712, -86.65884778)</td>\n",
       "    </tr>\n",
       "    <tr>\n",
       "      <th>1</th>\n",
       "      <td>375</td>\n",
       "      <td>Alex Green Elementary</td>\n",
       "      <td>3921 Lloyd Road</td>\n",
       "      <td>Whites Creek</td>\n",
       "      <td>TN</td>\n",
       "      <td>37189</td>\n",
       "      <td>(615)876-5105</td>\n",
       "      <td>5</td>\n",
       "      <td>Elementary School</td>\n",
       "      <td>Grade P4</td>\n",
       "      <td>Grade 4</td>\n",
       "      <td>36.252961</td>\n",
       "      <td>-86.832229</td>\n",
       "      <td>http://schools.mnps.org/alex-green-elementary-...</td>\n",
       "      <td>Whites Creek</td>\n",
       "      <td>(36.2529607, -86.8322292)</td>\n",
       "    </tr>\n",
       "    <tr>\n",
       "      <th>2</th>\n",
       "      <td>105</td>\n",
       "      <td>Amqui Elementary</td>\n",
       "      <td>319 Anderson Lane</td>\n",
       "      <td>Madison</td>\n",
       "      <td>TN</td>\n",
       "      <td>37115</td>\n",
       "      <td>(615)612-3678</td>\n",
       "      <td>10</td>\n",
       "      <td>Elementary School</td>\n",
       "      <td>Grade P3</td>\n",
       "      <td>Grade 4</td>\n",
       "      <td>36.273766</td>\n",
       "      <td>-86.703832</td>\n",
       "      <td>http://schools.mnps.org/amqui-elementary-school</td>\n",
       "      <td>Hunters Lane</td>\n",
       "      <td>(36.27376585, -86.70383153)</td>\n",
       "    </tr>\n",
       "    <tr>\n",
       "      <th>3</th>\n",
       "      <td>460</td>\n",
       "      <td>Andrew Jackson Elementary</td>\n",
       "      <td>110 Shute Ln</td>\n",
       "      <td>Old Hickory</td>\n",
       "      <td>TN</td>\n",
       "      <td>37138</td>\n",
       "      <td>(615)847-7317</td>\n",
       "      <td>15</td>\n",
       "      <td>Elementary School</td>\n",
       "      <td>Grade P4</td>\n",
       "      <td>Grade 4</td>\n",
       "      <td>36.231585</td>\n",
       "      <td>-86.623775</td>\n",
       "      <td>http://schools.mnps.org/andrew-jackson-element...</td>\n",
       "      <td>McGavock</td>\n",
       "      <td>(36.23158465, -86.62377469)</td>\n",
       "    </tr>\n",
       "    <tr>\n",
       "      <th>4</th>\n",
       "      <td>110</td>\n",
       "      <td>Antioch High School</td>\n",
       "      <td>1900 Hobson Pike</td>\n",
       "      <td>Antioch</td>\n",
       "      <td>TN</td>\n",
       "      <td>37013</td>\n",
       "      <td>(615)641-5400</td>\n",
       "      <td>20</td>\n",
       "      <td>High School</td>\n",
       "      <td>Grade 9</td>\n",
       "      <td>Grade 12</td>\n",
       "      <td>36.046675</td>\n",
       "      <td>-86.599418</td>\n",
       "      <td>http://schools.mnps.org/antioch-high-school</td>\n",
       "      <td>Antioch</td>\n",
       "      <td>(36.04667464, -86.59941833)</td>\n",
       "    </tr>\n",
       "  </tbody>\n",
       "</table>\n",
       "</div>"
      ],
      "text/plain": [
       "   School ID                School Name     Street Address          City  \\\n",
       "0        496    A. Z. Kelley Elementary   5834 Pettus Road       Antioch   \n",
       "1        375      Alex Green Elementary    3921 Lloyd Road  Whites Creek   \n",
       "2        105           Amqui Elementary  319 Anderson Lane       Madison   \n",
       "3        460  Andrew Jackson Elementary       110 Shute Ln   Old Hickory   \n",
       "4        110        Antioch High School   1900 Hobson Pike       Antioch   \n",
       "\n",
       "  State  ZIP Code   Phone Number  School State ID       School Level  \\\n",
       "0    TN     37013  (615)941-7535                1  Elementary School   \n",
       "1    TN     37189  (615)876-5105                5  Elementary School   \n",
       "2    TN     37115  (615)612-3678               10  Elementary School   \n",
       "3    TN     37138  (615)847-7317               15  Elementary School   \n",
       "4    TN     37013  (615)641-5400               20        High School   \n",
       "\n",
       "  Lowest Grade Highest Grade   Latitude  Longitude  \\\n",
       "0     Grade P3       Grade 4  36.021817 -86.658848   \n",
       "1     Grade P4       Grade 4  36.252961 -86.832229   \n",
       "2     Grade P3       Grade 4  36.273766 -86.703832   \n",
       "3     Grade P4       Grade 4  36.231585 -86.623775   \n",
       "4      Grade 9      Grade 12  36.046675 -86.599418   \n",
       "\n",
       "                                      School Website       Cluster  \\\n",
       "0  http://schools.mnps.org/az-kelley-elementary-s...    Cane Ridge   \n",
       "1  http://schools.mnps.org/alex-green-elementary-...  Whites Creek   \n",
       "2    http://schools.mnps.org/amqui-elementary-school  Hunters Lane   \n",
       "3  http://schools.mnps.org/andrew-jackson-element...      McGavock   \n",
       "4        http://schools.mnps.org/antioch-high-school       Antioch   \n",
       "\n",
       "               Mapped Location  \n",
       "0  (36.02181712, -86.65884778)  \n",
       "1    (36.2529607, -86.8322292)  \n",
       "2  (36.27376585, -86.70383153)  \n",
       "3  (36.23158465, -86.62377469)  \n",
       "4  (36.04667464, -86.59941833)  "
      ]
     },
     "execution_count": 3,
     "metadata": {},
     "output_type": "execute_result"
    }
   ],
   "source": [
    "school.head()"
   ]
  },
  {
   "cell_type": "code",
   "execution_count": 4,
   "metadata": {},
   "outputs": [
    {
     "data": {
      "image/png": "[encoded data removed]",
      "text/plain": [
       "<Figure size 432x288 with 1 Axes>"
      ]
     },
     "metadata": {
      "needs_background": "light"
     },
     "output_type": "display_data"
    }
   ],
   "source": [
    "plt.scatter(school.Longitude, school.Latitude, c='darkgreen', marker='p')\n",
    "\n",
    "plt.xlabel('Longitude')\n",
    "plt.ylabel('Latitude')\n",
    "plt.title('Nashville Public schools')\n",
    "plt.grid()\n",
    "plt.show()"
   ]
  },
  {
   "cell_type": "markdown",
   "metadata": {},
   "source": [
    "## Shapefiles\n",
    "\n",
    "- Store a special type of data known as *geometry*.\n",
    "\n",
    "- Types:\n",
    "\t- Point: one lat-lng pair\n",
    " \t- Line: two or more lat-lng pairs\n",
    "\t- Polygon: many lat-lng pairs\n",
    "\n",
    "## Shapefiles components\n",
    "\n",
    "- `my_map.shp` : contains the geometry\n",
    "- `my_map.dbf` : holds the attributes for each geometry\n",
    "- `my_map.shx` : links the attributes to the geometry\n",
    "\n",
    "## `geopandas`\n",
    "\n",
    "This code reads a shapefile into a GeoDataFrame and looks at the first few rows\n",
    "\n",
    "~~~\n",
    "import geopandas as gpd\n",
    "\n",
    "geo_df = gpd.read_file('My_Map_Files/my_map.shp')\n",
    "geo_df.head()\n",
    "~~~\n",
    "\n",
    "- For more on `geopandas`, check the [documentation](http://geopandas.org/).\n",
    "\n",
    "## Viewing a geometry\n",
    "\n",
    "~~~\n",
    "service_districts.loc[0, 'geometry']\n",
    "~~~\n",
    "\n",
    "## Plotting a GeoDataFrame\n",
    "\n",
    "~~~\n",
    "school_districts.plot(column='district', legend=True)\n",
    "\n",
    "plt.show()\n",
    "~~~\n",
    "\n",
    "## Combining scatterplots an polygons\n",
    "\n",
    "~~~\n",
    "school_districts.plot(column='district', legend=True, cmap='Set2')\n",
    "\n",
    "plt.scatter(shools.lng, schools.lat, marker='p', c='darkgreen')\n",
    "\n",
    "plt.title('Nashville Schools and School Districts')\n",
    "plt.show()\n",
    "~~~\n",
    "\n",
    "<img src='./IMAGES/scatterplots-geometry.PNG'>\n"
   ]
  },
  {
   "cell_type": "markdown",
   "metadata": {},
   "source": [
    "## Plotting with GeoJSON"
   ]
  },
  {
   "cell_type": "code",
   "execution_count": 5,
   "metadata": {},
   "outputs": [],
   "source": [
    "import geopandas as gpd"
   ]
  },
  {
   "cell_type": "code",
   "execution_count": 6,
   "metadata": {},
   "outputs": [
    {
     "name": "stdout",
     "output_type": "stream",
     "text": [
      "                   name                                           geometry\n",
      "0  Historic Buena Vista  (POLYGON ((-86.79511056795417 36.1757596496334...\n",
      "1        Charlotte Park  (POLYGON ((-86.87459668651866 36.1575770268129...\n",
      "2              Hillwood  (POLYGON ((-86.87613708067906 36.1355409894979...\n",
      "3            West Meade  (POLYGON ((-86.9038380396094 36.1255414807897,...\n",
      "4          White Bridge  (POLYGON ((-86.86321427797685 36.1288622289404...\n"
     ]
    }
   ],
   "source": [
    "neighborhoods = gpd.read_file('./DATASETS/neighborhoods.geojson')\n",
    "\n",
    "print(neighborhoods.head())"
   ]
  },
  {
   "cell_type": "code",
   "execution_count": 7,
   "metadata": {},
   "outputs": [
    {
     "data": {
      "text/plain": [
       "<matplotlib.axes._subplots.AxesSubplot at 0x21f58fe4400>"
      ]
     },
     "execution_count": 7,
     "metadata": {},
     "output_type": "execute_result"
    },
    {
     "data": {
      "image/png": "[encoded data removed]",
      "text/plain": [
       "<Figure size 432x288 with 1 Axes>"
      ]
     },
     "metadata": {
      "needs_background": "light"
     },
     "output_type": "display_data"
    }
   ],
   "source": [
    "neighborhoods.plot()"
   ]
  },
  {
   "cell_type": "markdown",
   "metadata": {},
   "source": [
    "## Geopandas dependencies\n",
    "\n",
    "- Fiona\n",
    "\t- provides a Python API for OGR\n",
    "- GDAL/OGR\n",
    "\t- GDAL for translating raster data\n",
    "\t- OGR for translating vector data\n",
    "\n",
    "<img src='./IMAGES/geopandas-dependencies.PNG'>\n"
   ]
  },
  {
   "cell_type": "markdown",
   "metadata": {},
   "source": [
    "## Plotting with color"
   ]
  },
  {
   "cell_type": "code",
   "execution_count": 8,
   "metadata": {},
   "outputs": [
    {
     "name": "stdout",
     "output_type": "stream",
     "text": [
      "   first_name       city    zip                           email state  \\\n",
      "0  Dr. Sharon  Nashville  37218  gentryfordistrict1@comcast.net    TN   \n",
      "1        Jill    Madison  37115          jill.speering@mnps.org    TN   \n",
      "2  Dr. Jo Ann  Nashville  37220          joann.brannon@mnps.org    TN   \n",
      "\n",
      "  last_name                address    position term_expir district  \\\n",
      "0    Gentry        6108 Beals Lane      Member       2016        1   \n",
      "1  Speering      1033 Falls Avenue  Vice-Chair       2016        3   \n",
      "2   Brannon  5444 San Marcos Drive      Member       2018        2   \n",
      "\n",
      "          phone                                           geometry  \n",
      "0  615-268-5269  (POLYGON ((-86.77136400034288 36.3835669997190...  \n",
      "1  615-562-5234  (POLYGON ((-86.75364713283636 36.4042760799855...  \n",
      "2  615-833-5976  (POLYGON ((-86.76696199971282 36.0833250002130...  \n"
     ]
    }
   ],
   "source": [
    "schools_districts = gpd.read_file('./DATASETS/school_districts.geojson')\n",
    "\n",
    "print(schools_districts.head(3))"
   ]
  },
  {
   "cell_type": "code",
   "execution_count": 9,
   "metadata": {},
   "outputs": [
    {
     "data": {
      "image/png": "[encoded data removed]",
      "text/plain": [
       "<Figure size 432x288 with 1 Axes>"
      ]
     },
     "metadata": {
      "needs_background": "light"
     },
     "output_type": "display_data"
    }
   ],
   "source": [
    "# Set legend style\n",
    "lgnd_kwds = {'title': 'School Districts',\n",
    "               'loc': 'upper left', 'bbox_to_anchor': (1, 1.03), 'ncol': 1}\n",
    "\n",
    "# Plot the school districts using the tab20 colormap (qualitative)\n",
    "schools_districts.plot(column = 'district', cmap = 'tab20', legend = True, legend_kwds = lgnd_kwds)\n",
    "plt.xlabel('Latitude')\n",
    "plt.ylabel('Longitude')\n",
    "plt.title('Nashville School Districts')\n",
    "plt.show()"
   ]
  },
  {
   "cell_type": "markdown",
   "metadata": {},
   "source": [
    "***"
   ]
  },
  {
   "cell_type": "markdown",
   "metadata": {},
   "source": [
    "## Coordinate Reference Systems\n",
    "\n",
    "- EPSG: 4326\n",
    "\t- used by Google Earth\n",
    "\t- units are decimal degrees\n",
    "- EPSG: 3857\n",
    "\t- used by Google Maps, Bing Maps, Open Street Maps\n",
    "\t- units are meters\n",
    "\n",
    "## Creating a geometry column"
   ]
  },
  {
   "cell_type": "code",
   "execution_count": 10,
   "metadata": {},
   "outputs": [
    {
     "name": "stdout",
     "output_type": "stream",
     "text": [
      "   School ID                School Name     Street Address          City  \\\n",
      "0        496    A. Z. Kelley Elementary   5834 Pettus Road       Antioch   \n",
      "1        375      Alex Green Elementary    3921 Lloyd Road  Whites Creek   \n",
      "2        105           Amqui Elementary  319 Anderson Lane       Madison   \n",
      "3        460  Andrew Jackson Elementary       110 Shute Ln   Old Hickory   \n",
      "4        110        Antioch High School   1900 Hobson Pike       Antioch   \n",
      "\n",
      "  State  ZIP Code   Phone Number  School State ID       School Level  \\\n",
      "0    TN     37013  (615)941-7535                1  Elementary School   \n",
      "1    TN     37189  (615)876-5105                5  Elementary School   \n",
      "2    TN     37115  (615)612-3678               10  Elementary School   \n",
      "3    TN     37138  (615)847-7317               15  Elementary School   \n",
      "4    TN     37013  (615)641-5400               20        High School   \n",
      "\n",
      "  Lowest Grade Highest Grade   Latitude  Longitude  \\\n",
      "0     Grade P3       Grade 4  36.021817 -86.658848   \n",
      "1     Grade P4       Grade 4  36.252961 -86.832229   \n",
      "2     Grade P3       Grade 4  36.273766 -86.703832   \n",
      "3     Grade P4       Grade 4  36.231585 -86.623775   \n",
      "4      Grade 9      Grade 12  36.046675 -86.599418   \n",
      "\n",
      "                                      School Website       Cluster  \\\n",
      "0  http://schools.mnps.org/az-kelley-elementary-s...    Cane Ridge   \n",
      "1  http://schools.mnps.org/alex-green-elementary-...  Whites Creek   \n",
      "2    http://schools.mnps.org/amqui-elementary-school  Hunters Lane   \n",
      "3  http://schools.mnps.org/andrew-jackson-element...      McGavock   \n",
      "4        http://schools.mnps.org/antioch-high-school       Antioch   \n",
      "\n",
      "               Mapped Location                                geometry  \n",
      "0  (36.02181712, -86.65884778)        POINT (-86.65884778 36.02181712)  \n",
      "1    (36.2529607, -86.8322292)          POINT (-86.8322292 36.2529607)  \n",
      "2  (36.27376585, -86.70383153)        POINT (-86.70383153 36.27376585)  \n",
      "3  (36.23158465, -86.62377469)        POINT (-86.62377469 36.23158465)  \n",
      "4  (36.04667464, -86.59941833)  POINT (-86.59941833000001 36.04667464)  \n"
     ]
    }
   ],
   "source": [
    "from shapely.geometry import Point\n",
    "\n",
    "school['geometry'] = school.apply(lambda x: Point((x.Longitude, x.Latitude)), axis=1)\n",
    "\n",
    "print(school.head())"
   ]
  },
  {
   "cell_type": "code",
   "execution_count": 11,
   "metadata": {},
   "outputs": [],
   "source": [
    "school_crs = {'init': 'epsg:4326'}\n",
    "\n",
    "school_geo = gpd.GeoDataFrame(school, crs = school_crs, geometry = school.geometry)"
   ]
  },
  {
   "cell_type": "code",
   "execution_count": 12,
   "metadata": {},
   "outputs": [
    {
     "data": {
      "text/html": [
       "<div>\n",
       "<style scoped>\n",
       "    .dataframe tbody tr th:only-of-type {\n",
       "        vertical-align: middle;\n",
       "    }\n",
       "\n",
       "    .dataframe tbody tr th {\n",
       "        vertical-align: top;\n",
       "    }\n",
       "\n",
       "    .dataframe thead th {\n",
       "        text-align: right;\n",
       "    }\n",
       "</style>\n",
       "<table border=\"1\" class=\"dataframe\">\n",
       "  <thead>\n",
       "    <tr style=\"text-align: right;\">\n",
       "      <th></th>\n",
       "      <th>School ID</th>\n",
       "      <th>School Name</th>\n",
       "      <th>Street Address</th>\n",
       "      <th>City</th>\n",
       "      <th>State</th>\n",
       "      <th>ZIP Code</th>\n",
       "      <th>Phone Number</th>\n",
       "      <th>School State ID</th>\n",
       "      <th>School Level</th>\n",
       "      <th>Lowest Grade</th>\n",
       "      <th>Highest Grade</th>\n",
       "      <th>Latitude</th>\n",
       "      <th>Longitude</th>\n",
       "      <th>School Website</th>\n",
       "      <th>Cluster</th>\n",
       "      <th>Mapped Location</th>\n",
       "      <th>geometry</th>\n",
       "    </tr>\n",
       "  </thead>\n",
       "  <tbody>\n",
       "    <tr>\n",
       "      <th>0</th>\n",
       "      <td>496</td>\n",
       "      <td>A. Z. Kelley Elementary</td>\n",
       "      <td>5834 Pettus Road</td>\n",
       "      <td>Antioch</td>\n",
       "      <td>TN</td>\n",
       "      <td>37013</td>\n",
       "      <td>(615)941-7535</td>\n",
       "      <td>1</td>\n",
       "      <td>Elementary School</td>\n",
       "      <td>Grade P3</td>\n",
       "      <td>Grade 4</td>\n",
       "      <td>36.021817</td>\n",
       "      <td>-86.658848</td>\n",
       "      <td>http://schools.mnps.org/az-kelley-elementary-s...</td>\n",
       "      <td>Cane Ridge</td>\n",
       "      <td>(36.02181712, -86.65884778)</td>\n",
       "      <td>POINT (-86.65884778 36.02181712)</td>\n",
       "    </tr>\n",
       "    <tr>\n",
       "      <th>1</th>\n",
       "      <td>375</td>\n",
       "      <td>Alex Green Elementary</td>\n",
       "      <td>3921 Lloyd Road</td>\n",
       "      <td>Whites Creek</td>\n",
       "      <td>TN</td>\n",
       "      <td>37189</td>\n",
       "      <td>(615)876-5105</td>\n",
       "      <td>5</td>\n",
       "      <td>Elementary School</td>\n",
       "      <td>Grade P4</td>\n",
       "      <td>Grade 4</td>\n",
       "      <td>36.252961</td>\n",
       "      <td>-86.832229</td>\n",
       "      <td>http://schools.mnps.org/alex-green-elementary-...</td>\n",
       "      <td>Whites Creek</td>\n",
       "      <td>(36.2529607, -86.8322292)</td>\n",
       "      <td>POINT (-86.8322292 36.2529607)</td>\n",
       "    </tr>\n",
       "    <tr>\n",
       "      <th>2</th>\n",
       "      <td>105</td>\n",
       "      <td>Amqui Elementary</td>\n",
       "      <td>319 Anderson Lane</td>\n",
       "      <td>Madison</td>\n",
       "      <td>TN</td>\n",
       "      <td>37115</td>\n",
       "      <td>(615)612-3678</td>\n",
       "      <td>10</td>\n",
       "      <td>Elementary School</td>\n",
       "      <td>Grade P3</td>\n",
       "      <td>Grade 4</td>\n",
       "      <td>36.273766</td>\n",
       "      <td>-86.703832</td>\n",
       "      <td>http://schools.mnps.org/amqui-elementary-school</td>\n",
       "      <td>Hunters Lane</td>\n",
       "      <td>(36.27376585, -86.70383153)</td>\n",
       "      <td>POINT (-86.70383153 36.27376585)</td>\n",
       "    </tr>\n",
       "    <tr>\n",
       "      <th>3</th>\n",
       "      <td>460</td>\n",
       "      <td>Andrew Jackson Elementary</td>\n",
       "      <td>110 Shute Ln</td>\n",
       "      <td>Old Hickory</td>\n",
       "      <td>TN</td>\n",
       "      <td>37138</td>\n",
       "      <td>(615)847-7317</td>\n",
       "      <td>15</td>\n",
       "      <td>Elementary School</td>\n",
       "      <td>Grade P4</td>\n",
       "      <td>Grade 4</td>\n",
       "      <td>36.231585</td>\n",
       "      <td>-86.623775</td>\n",
       "      <td>http://schools.mnps.org/andrew-jackson-element...</td>\n",
       "      <td>McGavock</td>\n",
       "      <td>(36.23158465, -86.62377469)</td>\n",
       "      <td>POINT (-86.62377469 36.23158465)</td>\n",
       "    </tr>\n",
       "    <tr>\n",
       "      <th>4</th>\n",
       "      <td>110</td>\n",
       "      <td>Antioch High School</td>\n",
       "      <td>1900 Hobson Pike</td>\n",
       "      <td>Antioch</td>\n",
       "      <td>TN</td>\n",
       "      <td>37013</td>\n",
       "      <td>(615)641-5400</td>\n",
       "      <td>20</td>\n",
       "      <td>High School</td>\n",
       "      <td>Grade 9</td>\n",
       "      <td>Grade 12</td>\n",
       "      <td>36.046675</td>\n",
       "      <td>-86.599418</td>\n",
       "      <td>http://schools.mnps.org/antioch-high-school</td>\n",
       "      <td>Antioch</td>\n",
       "      <td>(36.04667464, -86.59941833)</td>\n",
       "      <td>POINT (-86.59941833000001 36.04667464)</td>\n",
       "    </tr>\n",
       "  </tbody>\n",
       "</table>\n",
       "</div>"
      ],
      "text/plain": [
       "   School ID                School Name     Street Address          City  \\\n",
       "0        496    A. Z. Kelley Elementary   5834 Pettus Road       Antioch   \n",
       "1        375      Alex Green Elementary    3921 Lloyd Road  Whites Creek   \n",
       "2        105           Amqui Elementary  319 Anderson Lane       Madison   \n",
       "3        460  Andrew Jackson Elementary       110 Shute Ln   Old Hickory   \n",
       "4        110        Antioch High School   1900 Hobson Pike       Antioch   \n",
       "\n",
       "  State  ZIP Code   Phone Number  School State ID       School Level  \\\n",
       "0    TN     37013  (615)941-7535                1  Elementary School   \n",
       "1    TN     37189  (615)876-5105                5  Elementary School   \n",
       "2    TN     37115  (615)612-3678               10  Elementary School   \n",
       "3    TN     37138  (615)847-7317               15  Elementary School   \n",
       "4    TN     37013  (615)641-5400               20        High School   \n",
       "\n",
       "  Lowest Grade Highest Grade   Latitude  Longitude  \\\n",
       "0     Grade P3       Grade 4  36.021817 -86.658848   \n",
       "1     Grade P4       Grade 4  36.252961 -86.832229   \n",
       "2     Grade P3       Grade 4  36.273766 -86.703832   \n",
       "3     Grade P4       Grade 4  36.231585 -86.623775   \n",
       "4      Grade 9      Grade 12  36.046675 -86.599418   \n",
       "\n",
       "                                      School Website       Cluster  \\\n",
       "0  http://schools.mnps.org/az-kelley-elementary-s...    Cane Ridge   \n",
       "1  http://schools.mnps.org/alex-green-elementary-...  Whites Creek   \n",
       "2    http://schools.mnps.org/amqui-elementary-school  Hunters Lane   \n",
       "3  http://schools.mnps.org/andrew-jackson-element...      McGavock   \n",
       "4        http://schools.mnps.org/antioch-high-school       Antioch   \n",
       "\n",
       "               Mapped Location                                geometry  \n",
       "0  (36.02181712, -86.65884778)        POINT (-86.65884778 36.02181712)  \n",
       "1    (36.2529607, -86.8322292)          POINT (-86.8322292 36.2529607)  \n",
       "2  (36.27376585, -86.70383153)        POINT (-86.70383153 36.27376585)  \n",
       "3  (36.23158465, -86.62377469)        POINT (-86.62377469 36.23158465)  \n",
       "4  (36.04667464, -86.59941833)  POINT (-86.59941833000001 36.04667464)  "
      ]
     },
     "execution_count": 12,
     "metadata": {},
     "output_type": "execute_result"
    }
   ],
   "source": [
    "school_geo.head()"
   ]
  },
  {
   "cell_type": "code",
   "execution_count": 13,
   "metadata": {},
   "outputs": [
    {
     "data": {
      "text/plain": [
       "<matplotlib.axes._subplots.AxesSubplot at 0x21f590c1d68>"
      ]
     },
     "execution_count": 13,
     "metadata": {},
     "output_type": "execute_result"
    },
    {
     "data": {
      "image/png": "[encoded data removed]",
      "text/plain": [
       "<Figure size 432x288 with 1 Axes>"
      ]
     },
     "metadata": {
      "needs_background": "light"
     },
     "output_type": "display_data"
    }
   ],
   "source": [
    "school_geo.plot()"
   ]
  },
  {
   "cell_type": "markdown",
   "metadata": {},
   "source": [
    "***"
   ]
  },
  {
   "cell_type": "code",
   "execution_count": 14,
   "metadata": {},
   "outputs": [],
   "source": [
    "art = pd.read_csv('./DATASETS/public_art.csv')"
   ]
  },
  {
   "cell_type": "code",
   "execution_count": 15,
   "metadata": {},
   "outputs": [
    {
     "name": "stdout",
     "output_type": "stream",
     "text": [
      "                             Title                                 Last Name  \\\n",
      "0          [Cross Country Runners]                                     Frost   \n",
      "1  [Fourth and Commerce Sculpture]                                    Walker   \n",
      "2              12th & Porter Mural                                   Kennedy   \n",
      "3                A Splash of Color  Stevenson and Stanley and ROFF (Harroff)   \n",
      "4             A Story of Nashville                                    Ridley   \n",
      "\n",
      "                  First Name                           Location  \\\n",
      "0                      Miley     4001 Harding Rd., Nashville TN   \n",
      "1                        Lin  333 Commerce Street, Nashville TN   \n",
      "2                        Kim                  114 12th Avenue N   \n",
      "3  Doug and Ronnica and Lynn                   616 17th Ave. N.   \n",
      "4                       Greg    615 Church Street, Nashville TN   \n",
      "\n",
      "                                              Medium       Type  \\\n",
      "0                                             Bronze  Sculpture   \n",
      "1                                                NaN  Sculpture   \n",
      "2                   Porter all-weather outdoor paint      Mural   \n",
      "3  Steel, brick, wood, and fabric on frostproof c...      Mural   \n",
      "4                           Hammered copper repousse     Frieze   \n",
      "\n",
      "                                         Description  Latitude  Longitude  \\\n",
      "0                                                NaN  36.12856  -86.83660   \n",
      "1                                                NaN  36.16234  -86.77774   \n",
      "2  Kim Kennedy is a musician and visual artist wh...  36.15790  -86.78817   \n",
      "3  Painted wooden hoop dancer on a twenty foot po...  36.16202  -86.79975   \n",
      "4  Inside the Grand Reading Room, this is a serie...  36.16215  -86.78205   \n",
      "\n",
      "         Mapped Location  \n",
      "0   (36.12856, -86.8366)  \n",
      "1  (36.16234, -86.77774)  \n",
      "2   (36.1579, -86.78817)  \n",
      "3  (36.16202, -86.79975)  \n",
      "4  (36.16215, -86.78205)  \n"
     ]
    }
   ],
   "source": [
    "# Print the first few rows of the art DataFrame\n",
    "print(art.head())"
   ]
  },
  {
   "cell_type": "code",
   "execution_count": 16,
   "metadata": {},
   "outputs": [
    {
     "name": "stdout",
     "output_type": "stream",
     "text": [
      "<class 'geopandas.geodataframe.GeoDataFrame'>\n"
     ]
    }
   ],
   "source": [
    "# Create a geometry column from lng & lat\n",
    "art['geometry'] = art.apply(lambda x: Point(float(x.Latitude), float(x.Longitude)), axis=1)\n",
    "\n",
    "# Create a GeoDataFrame from art and verify the type\n",
    "art_geo = gpd.GeoDataFrame(art, crs = {'init': 'epsg:4326'}, geometry = art.geometry)\n",
    "print(type(art_geo))\n"
   ]
  },
  {
   "cell_type": "markdown",
   "metadata": {},
   "source": [
    "***"
   ]
  },
  {
   "cell_type": "code",
   "execution_count": 17,
   "metadata": {},
   "outputs": [],
   "source": [
    "council_districts = gpd.read_file('./DATASETS/council_districts.geojson')"
   ]
  },
  {
   "cell_type": "code",
   "execution_count": 18,
   "metadata": {},
   "outputs": [
    {
     "data": {
      "text/html": [
       "<div>\n",
       "<style scoped>\n",
       "    .dataframe tbody tr th:only-of-type {\n",
       "        vertical-align: middle;\n",
       "    }\n",
       "\n",
       "    .dataframe tbody tr th {\n",
       "        vertical-align: top;\n",
       "    }\n",
       "\n",
       "    .dataframe thead th {\n",
       "        text-align: right;\n",
       "    }\n",
       "</style>\n",
       "<table border=\"1\" class=\"dataframe\">\n",
       "  <thead>\n",
       "    <tr style=\"text-align: right;\">\n",
       "      <th></th>\n",
       "      <th>first_name</th>\n",
       "      <th>email</th>\n",
       "      <th>res_phone</th>\n",
       "      <th>bus_phone</th>\n",
       "      <th>last_name</th>\n",
       "      <th>position</th>\n",
       "      <th>district</th>\n",
       "      <th>geometry</th>\n",
       "    </tr>\n",
       "  </thead>\n",
       "  <tbody>\n",
       "    <tr>\n",
       "      <th>0</th>\n",
       "      <td>Nick</td>\n",
       "      <td>nick.leonardo@nashville.gov</td>\n",
       "      <td>615-509-6334</td>\n",
       "      <td>615-862-6780</td>\n",
       "      <td>Leonardo</td>\n",
       "      <td>Council Member</td>\n",
       "      <td>1</td>\n",
       "      <td>(POLYGON ((-86.90738248774342 36.3905151283193...</td>\n",
       "    </tr>\n",
       "    <tr>\n",
       "      <th>1</th>\n",
       "      <td>DeCosta</td>\n",
       "      <td>decosta.hastings@nashville.gov</td>\n",
       "      <td>615-779-1565</td>\n",
       "      <td>615-862-6780</td>\n",
       "      <td>Hastings</td>\n",
       "      <td>Council Member</td>\n",
       "      <td>2</td>\n",
       "      <td>(POLYGON ((-86.75902399986667 36.2309080000732...</td>\n",
       "    </tr>\n",
       "    <tr>\n",
       "      <th>2</th>\n",
       "      <td>Nancy</td>\n",
       "      <td>nancy.vanreece@nashville.gov</td>\n",
       "      <td>615-576-0488</td>\n",
       "      <td>615-862-6780</td>\n",
       "      <td>VanReece</td>\n",
       "      <td>Council Member</td>\n",
       "      <td>8</td>\n",
       "      <td>(POLYGON ((-86.72850199989709 36.2832840002146...</td>\n",
       "    </tr>\n",
       "    <tr>\n",
       "      <th>3</th>\n",
       "      <td>Bill</td>\n",
       "      <td>bill.pridemore@nashville.gov</td>\n",
       "      <td>615-915-1419</td>\n",
       "      <td>615-862-6780</td>\n",
       "      <td>Pridemore</td>\n",
       "      <td>Council Member</td>\n",
       "      <td>9</td>\n",
       "      <td>(POLYGON ((-86.68680500011935 36.2867050001350...</td>\n",
       "    </tr>\n",
       "    <tr>\n",
       "      <th>4</th>\n",
       "      <td>Robert</td>\n",
       "      <td>robert.swope@nashville.gov</td>\n",
       "      <td>615-308-0577</td>\n",
       "      <td>615-862-6780</td>\n",
       "      <td>Swope</td>\n",
       "      <td>Council Member</td>\n",
       "      <td>4</td>\n",
       "      <td>(POLYGON ((-86.74488864807594 36.0531632050230...</td>\n",
       "    </tr>\n",
       "  </tbody>\n",
       "</table>\n",
       "</div>"
      ],
      "text/plain": [
       "  first_name                           email     res_phone     bus_phone  \\\n",
       "0       Nick     nick.leonardo@nashville.gov  615-509-6334  615-862-6780   \n",
       "1    DeCosta  decosta.hastings@nashville.gov  615-779-1565  615-862-6780   \n",
       "2      Nancy    nancy.vanreece@nashville.gov  615-576-0488  615-862-6780   \n",
       "3       Bill    bill.pridemore@nashville.gov  615-915-1419  615-862-6780   \n",
       "4     Robert      robert.swope@nashville.gov  615-308-0577  615-862-6780   \n",
       "\n",
       "   last_name        position district  \\\n",
       "0   Leonardo  Council Member        1   \n",
       "1   Hastings  Council Member        2   \n",
       "2   VanReece  Council Member        8   \n",
       "3  Pridemore  Council Member        9   \n",
       "4      Swope  Council Member        4   \n",
       "\n",
       "                                            geometry  \n",
       "0  (POLYGON ((-86.90738248774342 36.3905151283193...  \n",
       "1  (POLYGON ((-86.75902399986667 36.2309080000732...  \n",
       "2  (POLYGON ((-86.72850199989709 36.2832840002146...  \n",
       "3  (POLYGON ((-86.68680500011935 36.2867050001350...  \n",
       "4  (POLYGON ((-86.74488864807594 36.0531632050230...  "
      ]
     },
     "execution_count": 18,
     "metadata": {},
     "output_type": "execute_result"
    }
   ],
   "source": [
    "council_districts.head()"
   ]
  },
  {
   "cell_type": "markdown",
   "metadata": {},
   "source": [
    "## The `.sjoin` `op` argument\n",
    "\n",
    "~~~\n",
    "gpd.sjoin(blue_region_gdf, black_region_gdf, op=<operation>)\n",
    "~~~\n",
    "- `<operation>` can be: `intersects`, `contains` or `within`\n",
    "\n",
    "## Using `.sjoin()`\n"
   ]
  },
  {
   "cell_type": "code",
   "execution_count": 19,
   "metadata": {},
   "outputs": [],
   "source": [
    "within_gdf = gpd.sjoin(council_districts, schools_districts, op='within')"
   ]
  },
  {
   "cell_type": "code",
   "execution_count": 20,
   "metadata": {},
   "outputs": [
    {
     "name": "stdout",
     "output_type": "stream",
     "text": [
      "council districts within school districts:  11\n"
     ]
    }
   ],
   "source": [
    "print('council districts within school districts: ', within_gdf.shape[0])"
   ]
  },
  {
   "cell_type": "code",
   "execution_count": 21,
   "metadata": {},
   "outputs": [],
   "source": [
    "contains_gdf = gpd.sjoin(schools_districts, council_districts, op='contains')"
   ]
  },
  {
   "cell_type": "code",
   "execution_count": 22,
   "metadata": {},
   "outputs": [
    {
     "name": "stdout",
     "output_type": "stream",
     "text": [
      "school districts contain council districts:  11\n"
     ]
    }
   ],
   "source": [
    "print('school districts contain council districts: ', contains_gdf.shape[0])"
   ]
  },
  {
   "cell_type": "code",
   "execution_count": 23,
   "metadata": {},
   "outputs": [],
   "source": [
    "intersects_gdf = gpd.sjoin(council_districts, schools_districts, op='intersects')"
   ]
  },
  {
   "cell_type": "code",
   "execution_count": 24,
   "metadata": {},
   "outputs": [
    {
     "name": "stdout",
     "output_type": "stream",
     "text": [
      "council districts intersect school districts:  100\n"
     ]
    }
   ],
   "source": [
    "print('council districts intersect school districts: ', intersects_gdf.shape[0])"
   ]
  },
  {
   "cell_type": "code",
   "execution_count": 25,
   "metadata": {},
   "outputs": [
    {
     "data": {
      "text/html": [
       "<div>\n",
       "<style scoped>\n",
       "    .dataframe tbody tr th:only-of-type {\n",
       "        vertical-align: middle;\n",
       "    }\n",
       "\n",
       "    .dataframe tbody tr th {\n",
       "        vertical-align: top;\n",
       "    }\n",
       "\n",
       "    .dataframe thead th {\n",
       "        text-align: right;\n",
       "    }\n",
       "</style>\n",
       "<table border=\"1\" class=\"dataframe\">\n",
       "  <thead>\n",
       "    <tr style=\"text-align: right;\">\n",
       "      <th></th>\n",
       "      <th>first_name_left</th>\n",
       "      <th>email_left</th>\n",
       "      <th>res_phone</th>\n",
       "      <th>bus_phone</th>\n",
       "      <th>last_name_left</th>\n",
       "      <th>position_left</th>\n",
       "      <th>district_left</th>\n",
       "      <th>geometry</th>\n",
       "      <th>index_right</th>\n",
       "      <th>first_name_right</th>\n",
       "      <th>city</th>\n",
       "      <th>zip</th>\n",
       "      <th>email_right</th>\n",
       "      <th>state</th>\n",
       "      <th>last_name_right</th>\n",
       "      <th>address</th>\n",
       "      <th>position_right</th>\n",
       "      <th>term_expir</th>\n",
       "      <th>district_right</th>\n",
       "      <th>phone</th>\n",
       "    </tr>\n",
       "  </thead>\n",
       "  <tbody>\n",
       "    <tr>\n",
       "      <th>0</th>\n",
       "      <td>Nick</td>\n",
       "      <td>nick.leonardo@nashville.gov</td>\n",
       "      <td>615-509-6334</td>\n",
       "      <td>615-862-6780</td>\n",
       "      <td>Leonardo</td>\n",
       "      <td>Council Member</td>\n",
       "      <td>1</td>\n",
       "      <td>(POLYGON ((-86.90738248774342 36.3905151283193...</td>\n",
       "      <td>0</td>\n",
       "      <td>Dr. Sharon</td>\n",
       "      <td>Nashville</td>\n",
       "      <td>37218</td>\n",
       "      <td>gentryfordistrict1@comcast.net</td>\n",
       "      <td>TN</td>\n",
       "      <td>Gentry</td>\n",
       "      <td>6108 Beals Lane</td>\n",
       "      <td>Member</td>\n",
       "      <td>2016</td>\n",
       "      <td>1</td>\n",
       "      <td>615-268-5269</td>\n",
       "    </tr>\n",
       "    <tr>\n",
       "      <th>1</th>\n",
       "      <td>DeCosta</td>\n",
       "      <td>decosta.hastings@nashville.gov</td>\n",
       "      <td>615-779-1565</td>\n",
       "      <td>615-862-6780</td>\n",
       "      <td>Hastings</td>\n",
       "      <td>Council Member</td>\n",
       "      <td>2</td>\n",
       "      <td>(POLYGON ((-86.75902399986667 36.2309080000732...</td>\n",
       "      <td>0</td>\n",
       "      <td>Dr. Sharon</td>\n",
       "      <td>Nashville</td>\n",
       "      <td>37218</td>\n",
       "      <td>gentryfordistrict1@comcast.net</td>\n",
       "      <td>TN</td>\n",
       "      <td>Gentry</td>\n",
       "      <td>6108 Beals Lane</td>\n",
       "      <td>Member</td>\n",
       "      <td>2016</td>\n",
       "      <td>1</td>\n",
       "      <td>615-268-5269</td>\n",
       "    </tr>\n",
       "    <tr>\n",
       "      <th>2</th>\n",
       "      <td>Nancy</td>\n",
       "      <td>nancy.vanreece@nashville.gov</td>\n",
       "      <td>615-576-0488</td>\n",
       "      <td>615-862-6780</td>\n",
       "      <td>VanReece</td>\n",
       "      <td>Council Member</td>\n",
       "      <td>8</td>\n",
       "      <td>(POLYGON ((-86.72850199989709 36.2832840002146...</td>\n",
       "      <td>1</td>\n",
       "      <td>Jill</td>\n",
       "      <td>Madison</td>\n",
       "      <td>37115</td>\n",
       "      <td>jill.speering@mnps.org</td>\n",
       "      <td>TN</td>\n",
       "      <td>Speering</td>\n",
       "      <td>1033 Falls Avenue</td>\n",
       "      <td>Vice-Chair</td>\n",
       "      <td>2016</td>\n",
       "      <td>3</td>\n",
       "      <td>615-562-5234</td>\n",
       "    </tr>\n",
       "    <tr>\n",
       "      <th>3</th>\n",
       "      <td>Bill</td>\n",
       "      <td>bill.pridemore@nashville.gov</td>\n",
       "      <td>615-915-1419</td>\n",
       "      <td>615-862-6780</td>\n",
       "      <td>Pridemore</td>\n",
       "      <td>Council Member</td>\n",
       "      <td>9</td>\n",
       "      <td>(POLYGON ((-86.68680500011935 36.2867050001350...</td>\n",
       "      <td>1</td>\n",
       "      <td>Jill</td>\n",
       "      <td>Madison</td>\n",
       "      <td>37115</td>\n",
       "      <td>jill.speering@mnps.org</td>\n",
       "      <td>TN</td>\n",
       "      <td>Speering</td>\n",
       "      <td>1033 Falls Avenue</td>\n",
       "      <td>Vice-Chair</td>\n",
       "      <td>2016</td>\n",
       "      <td>3</td>\n",
       "      <td>615-562-5234</td>\n",
       "    </tr>\n",
       "    <tr>\n",
       "      <th>9</th>\n",
       "      <td>Doug</td>\n",
       "      <td>doug.pardue@nashville.gov</td>\n",
       "      <td>615-859-9370</td>\n",
       "      <td>615-305-3945</td>\n",
       "      <td>Pardue</td>\n",
       "      <td>Council Member</td>\n",
       "      <td>10</td>\n",
       "      <td>(POLYGON ((-86.75364713283636 36.4042760799855...</td>\n",
       "      <td>1</td>\n",
       "      <td>Jill</td>\n",
       "      <td>Madison</td>\n",
       "      <td>37115</td>\n",
       "      <td>jill.speering@mnps.org</td>\n",
       "      <td>TN</td>\n",
       "      <td>Speering</td>\n",
       "      <td>1033 Falls Avenue</td>\n",
       "      <td>Vice-Chair</td>\n",
       "      <td>2016</td>\n",
       "      <td>3</td>\n",
       "      <td>615-562-5234</td>\n",
       "    </tr>\n",
       "  </tbody>\n",
       "</table>\n",
       "</div>"
      ],
      "text/plain": [
       "  first_name_left                      email_left     res_phone     bus_phone  \\\n",
       "0            Nick     nick.leonardo@nashville.gov  615-509-6334  615-862-6780   \n",
       "1         DeCosta  decosta.hastings@nashville.gov  615-779-1565  615-862-6780   \n",
       "2           Nancy    nancy.vanreece@nashville.gov  615-576-0488  615-862-6780   \n",
       "3            Bill    bill.pridemore@nashville.gov  615-915-1419  615-862-6780   \n",
       "9            Doug       doug.pardue@nashville.gov  615-859-9370  615-305-3945   \n",
       "\n",
       "  last_name_left   position_left district_left  \\\n",
       "0       Leonardo  Council Member             1   \n",
       "1       Hastings  Council Member             2   \n",
       "2       VanReece  Council Member             8   \n",
       "3      Pridemore  Council Member             9   \n",
       "9         Pardue  Council Member            10   \n",
       "\n",
       "                                            geometry  index_right  \\\n",
       "0  (POLYGON ((-86.90738248774342 36.3905151283193...            0   \n",
       "1  (POLYGON ((-86.75902399986667 36.2309080000732...            0   \n",
       "2  (POLYGON ((-86.72850199989709 36.2832840002146...            1   \n",
       "3  (POLYGON ((-86.68680500011935 36.2867050001350...            1   \n",
       "9  (POLYGON ((-86.75364713283636 36.4042760799855...            1   \n",
       "\n",
       "  first_name_right       city    zip                     email_right state  \\\n",
       "0       Dr. Sharon  Nashville  37218  gentryfordistrict1@comcast.net    TN   \n",
       "1       Dr. Sharon  Nashville  37218  gentryfordistrict1@comcast.net    TN   \n",
       "2             Jill    Madison  37115          jill.speering@mnps.org    TN   \n",
       "3             Jill    Madison  37115          jill.speering@mnps.org    TN   \n",
       "9             Jill    Madison  37115          jill.speering@mnps.org    TN   \n",
       "\n",
       "  last_name_right            address position_right term_expir district_right  \\\n",
       "0          Gentry    6108 Beals Lane         Member       2016              1   \n",
       "1          Gentry    6108 Beals Lane         Member       2016              1   \n",
       "2        Speering  1033 Falls Avenue     Vice-Chair       2016              3   \n",
       "3        Speering  1033 Falls Avenue     Vice-Chair       2016              3   \n",
       "9        Speering  1033 Falls Avenue     Vice-Chair       2016              3   \n",
       "\n",
       "          phone  \n",
       "0  615-268-5269  \n",
       "1  615-268-5269  \n",
       "2  615-562-5234  \n",
       "3  615-562-5234  \n",
       "9  615-562-5234  "
      ]
     },
     "execution_count": 25,
     "metadata": {},
     "output_type": "execute_result"
    }
   ],
   "source": [
    "within_gdf.head()"
   ]
  },
  {
   "cell_type": "markdown",
   "metadata": {},
   "source": [
    "## Aggregate spatially joined data"
   ]
  },
  {
   "cell_type": "markdown",
   "metadata": {},
   "source": [
    "~~~\n",
    "# first rename district_left and district_right\n",
    "within_gdf.district_left = council_districts\n",
    "within_gdf.district_right = schools_districts\n",
    "~~~"
   ]
  },
  {
   "cell_type": "code",
   "execution_count": 26,
   "metadata": {},
   "outputs": [
    {
     "data": {
      "text/html": [
       "<div>\n",
       "<style scoped>\n",
       "    .dataframe tbody tr th:only-of-type {\n",
       "        vertical-align: middle;\n",
       "    }\n",
       "\n",
       "    .dataframe tbody tr th {\n",
       "        vertical-align: top;\n",
       "    }\n",
       "\n",
       "    .dataframe thead th {\n",
       "        text-align: right;\n",
       "    }\n",
       "</style>\n",
       "<table border=\"1\" class=\"dataframe\">\n",
       "  <thead>\n",
       "    <tr style=\"text-align: right;\">\n",
       "      <th></th>\n",
       "      <th>first_name_left</th>\n",
       "      <th>email_left</th>\n",
       "      <th>res_phone</th>\n",
       "      <th>bus_phone</th>\n",
       "      <th>last_name_left</th>\n",
       "      <th>position_left</th>\n",
       "      <th>district_left</th>\n",
       "      <th>geometry</th>\n",
       "      <th>index_right</th>\n",
       "      <th>first_name_right</th>\n",
       "      <th>city</th>\n",
       "      <th>zip</th>\n",
       "      <th>email_right</th>\n",
       "      <th>state</th>\n",
       "      <th>last_name_right</th>\n",
       "      <th>address</th>\n",
       "      <th>position_right</th>\n",
       "      <th>term_expir</th>\n",
       "      <th>district_right</th>\n",
       "      <th>phone</th>\n",
       "    </tr>\n",
       "  </thead>\n",
       "  <tbody>\n",
       "    <tr>\n",
       "      <th>0</th>\n",
       "      <td>Nick</td>\n",
       "      <td>nick.leonardo@nashville.gov</td>\n",
       "      <td>615-509-6334</td>\n",
       "      <td>615-862-6780</td>\n",
       "      <td>Leonardo</td>\n",
       "      <td>Council Member</td>\n",
       "      <td>1</td>\n",
       "      <td>(POLYGON ((-86.90738248774342 36.3905151283193...</td>\n",
       "      <td>0</td>\n",
       "      <td>Dr. Sharon</td>\n",
       "      <td>Nashville</td>\n",
       "      <td>37218</td>\n",
       "      <td>gentryfordistrict1@comcast.net</td>\n",
       "      <td>TN</td>\n",
       "      <td>Gentry</td>\n",
       "      <td>6108 Beals Lane</td>\n",
       "      <td>Member</td>\n",
       "      <td>2016</td>\n",
       "      <td>1</td>\n",
       "      <td>615-268-5269</td>\n",
       "    </tr>\n",
       "    <tr>\n",
       "      <th>1</th>\n",
       "      <td>DeCosta</td>\n",
       "      <td>decosta.hastings@nashville.gov</td>\n",
       "      <td>615-779-1565</td>\n",
       "      <td>615-862-6780</td>\n",
       "      <td>Hastings</td>\n",
       "      <td>Council Member</td>\n",
       "      <td>2</td>\n",
       "      <td>(POLYGON ((-86.75902399986667 36.2309080000732...</td>\n",
       "      <td>0</td>\n",
       "      <td>Dr. Sharon</td>\n",
       "      <td>Nashville</td>\n",
       "      <td>37218</td>\n",
       "      <td>gentryfordistrict1@comcast.net</td>\n",
       "      <td>TN</td>\n",
       "      <td>Gentry</td>\n",
       "      <td>6108 Beals Lane</td>\n",
       "      <td>Member</td>\n",
       "      <td>2016</td>\n",
       "      <td>1</td>\n",
       "      <td>615-268-5269</td>\n",
       "    </tr>\n",
       "    <tr>\n",
       "      <th>2</th>\n",
       "      <td>Nancy</td>\n",
       "      <td>nancy.vanreece@nashville.gov</td>\n",
       "      <td>615-576-0488</td>\n",
       "      <td>615-862-6780</td>\n",
       "      <td>VanReece</td>\n",
       "      <td>Council Member</td>\n",
       "      <td>8</td>\n",
       "      <td>(POLYGON ((-86.72850199989709 36.2832840002146...</td>\n",
       "      <td>1</td>\n",
       "      <td>Jill</td>\n",
       "      <td>Madison</td>\n",
       "      <td>37115</td>\n",
       "      <td>jill.speering@mnps.org</td>\n",
       "      <td>TN</td>\n",
       "      <td>Speering</td>\n",
       "      <td>1033 Falls Avenue</td>\n",
       "      <td>Vice-Chair</td>\n",
       "      <td>2016</td>\n",
       "      <td>3</td>\n",
       "      <td>615-562-5234</td>\n",
       "    </tr>\n",
       "    <tr>\n",
       "      <th>3</th>\n",
       "      <td>Bill</td>\n",
       "      <td>bill.pridemore@nashville.gov</td>\n",
       "      <td>615-915-1419</td>\n",
       "      <td>615-862-6780</td>\n",
       "      <td>Pridemore</td>\n",
       "      <td>Council Member</td>\n",
       "      <td>9</td>\n",
       "      <td>(POLYGON ((-86.68680500011935 36.2867050001350...</td>\n",
       "      <td>1</td>\n",
       "      <td>Jill</td>\n",
       "      <td>Madison</td>\n",
       "      <td>37115</td>\n",
       "      <td>jill.speering@mnps.org</td>\n",
       "      <td>TN</td>\n",
       "      <td>Speering</td>\n",
       "      <td>1033 Falls Avenue</td>\n",
       "      <td>Vice-Chair</td>\n",
       "      <td>2016</td>\n",
       "      <td>3</td>\n",
       "      <td>615-562-5234</td>\n",
       "    </tr>\n",
       "    <tr>\n",
       "      <th>9</th>\n",
       "      <td>Doug</td>\n",
       "      <td>doug.pardue@nashville.gov</td>\n",
       "      <td>615-859-9370</td>\n",
       "      <td>615-305-3945</td>\n",
       "      <td>Pardue</td>\n",
       "      <td>Council Member</td>\n",
       "      <td>10</td>\n",
       "      <td>(POLYGON ((-86.75364713283636 36.4042760799855...</td>\n",
       "      <td>1</td>\n",
       "      <td>Jill</td>\n",
       "      <td>Madison</td>\n",
       "      <td>37115</td>\n",
       "      <td>jill.speering@mnps.org</td>\n",
       "      <td>TN</td>\n",
       "      <td>Speering</td>\n",
       "      <td>1033 Falls Avenue</td>\n",
       "      <td>Vice-Chair</td>\n",
       "      <td>2016</td>\n",
       "      <td>3</td>\n",
       "      <td>615-562-5234</td>\n",
       "    </tr>\n",
       "  </tbody>\n",
       "</table>\n",
       "</div>"
      ],
      "text/plain": [
       "  first_name_left                      email_left     res_phone     bus_phone  \\\n",
       "0            Nick     nick.leonardo@nashville.gov  615-509-6334  615-862-6780   \n",
       "1         DeCosta  decosta.hastings@nashville.gov  615-779-1565  615-862-6780   \n",
       "2           Nancy    nancy.vanreece@nashville.gov  615-576-0488  615-862-6780   \n",
       "3            Bill    bill.pridemore@nashville.gov  615-915-1419  615-862-6780   \n",
       "9            Doug       doug.pardue@nashville.gov  615-859-9370  615-305-3945   \n",
       "\n",
       "  last_name_left   position_left district_left  \\\n",
       "0       Leonardo  Council Member             1   \n",
       "1       Hastings  Council Member             2   \n",
       "2       VanReece  Council Member             8   \n",
       "3      Pridemore  Council Member             9   \n",
       "9         Pardue  Council Member            10   \n",
       "\n",
       "                                            geometry  index_right  \\\n",
       "0  (POLYGON ((-86.90738248774342 36.3905151283193...            0   \n",
       "1  (POLYGON ((-86.75902399986667 36.2309080000732...            0   \n",
       "2  (POLYGON ((-86.72850199989709 36.2832840002146...            1   \n",
       "3  (POLYGON ((-86.68680500011935 36.2867050001350...            1   \n",
       "9  (POLYGON ((-86.75364713283636 36.4042760799855...            1   \n",
       "\n",
       "  first_name_right       city    zip                     email_right state  \\\n",
       "0       Dr. Sharon  Nashville  37218  gentryfordistrict1@comcast.net    TN   \n",
       "1       Dr. Sharon  Nashville  37218  gentryfordistrict1@comcast.net    TN   \n",
       "2             Jill    Madison  37115          jill.speering@mnps.org    TN   \n",
       "3             Jill    Madison  37115          jill.speering@mnps.org    TN   \n",
       "9             Jill    Madison  37115          jill.speering@mnps.org    TN   \n",
       "\n",
       "  last_name_right            address position_right term_expir district_right  \\\n",
       "0          Gentry    6108 Beals Lane         Member       2016              1   \n",
       "1          Gentry    6108 Beals Lane         Member       2016              1   \n",
       "2        Speering  1033 Falls Avenue     Vice-Chair       2016              3   \n",
       "3        Speering  1033 Falls Avenue     Vice-Chair       2016              3   \n",
       "9        Speering  1033 Falls Avenue     Vice-Chair       2016              3   \n",
       "\n",
       "          phone  \n",
       "0  615-268-5269  \n",
       "1  615-268-5269  \n",
       "2  615-562-5234  \n",
       "3  615-562-5234  \n",
       "9  615-562-5234  "
      ]
     },
     "execution_count": 26,
     "metadata": {},
     "output_type": "execute_result"
    }
   ],
   "source": [
    "within_gdf.head()"
   ]
  },
  {
   "cell_type": "code",
   "execution_count": 27,
   "metadata": {
    "scrolled": true
   },
   "outputs": [
    {
     "data": {
      "text/html": [
       "<div>\n",
       "<style scoped>\n",
       "    .dataframe tbody tr th:only-of-type {\n",
       "        vertical-align: middle;\n",
       "    }\n",
       "\n",
       "    .dataframe tbody tr th {\n",
       "        vertical-align: top;\n",
       "    }\n",
       "\n",
       "    .dataframe thead th {\n",
       "        text-align: right;\n",
       "    }\n",
       "</style>\n",
       "<table border=\"1\" class=\"dataframe\">\n",
       "  <thead>\n",
       "    <tr style=\"text-align: right;\">\n",
       "      <th></th>\n",
       "      <th>district_left</th>\n",
       "    </tr>\n",
       "    <tr>\n",
       "      <th>district_right</th>\n",
       "      <th></th>\n",
       "    </tr>\n",
       "  </thead>\n",
       "  <tbody>\n",
       "    <tr>\n",
       "      <th>3</th>\n",
       "      <td>3</td>\n",
       "    </tr>\n",
       "    <tr>\n",
       "      <th>1</th>\n",
       "      <td>2</td>\n",
       "    </tr>\n",
       "    <tr>\n",
       "      <th>9</th>\n",
       "      <td>2</td>\n",
       "    </tr>\n",
       "    <tr>\n",
       "      <th>2</th>\n",
       "      <td>1</td>\n",
       "    </tr>\n",
       "    <tr>\n",
       "      <th>5</th>\n",
       "      <td>1</td>\n",
       "    </tr>\n",
       "    <tr>\n",
       "      <th>6</th>\n",
       "      <td>1</td>\n",
       "    </tr>\n",
       "    <tr>\n",
       "      <th>8</th>\n",
       "      <td>1</td>\n",
       "    </tr>\n",
       "  </tbody>\n",
       "</table>\n",
       "</div>"
      ],
      "text/plain": [
       "                district_left\n",
       "district_right               \n",
       "3                           3\n",
       "1                           2\n",
       "9                           2\n",
       "2                           1\n",
       "5                           1\n",
       "6                           1\n",
       "8                           1"
      ]
     },
     "execution_count": 27,
     "metadata": {},
     "output_type": "execute_result"
    }
   ],
   "source": [
    "cols = ['district_left','district_right']\n",
    "within_gdf[cols].groupby('district_right').agg('count').sort_values('district_left',ascending=False)"
   ]
  },
  {
   "cell_type": "markdown",
   "metadata": {},
   "source": [
    "***"
   ]
  },
  {
   "cell_type": "markdown",
   "metadata": {},
   "source": [
    "## Shapely attributes and methods\n",
    "\n",
    "- `GeoSeries.area` : returns the area of each geometry in a GeoSeries\n",
    "- `GeoSeries.centroid` : returns the center point of each geometry in a GeoSeries\n",
    "- `GeoSeries.distance(other)` : returns the minimum distance to `other`\n"
   ]
  },
  {
   "cell_type": "code",
   "execution_count": 28,
   "metadata": {},
   "outputs": [
    {
     "name": "stdout",
     "output_type": "stream",
     "text": [
      "0    0.036641\n",
      "4    0.023030\n",
      "8    0.015004\n",
      "1    0.014205\n",
      "3    0.014123\n",
      "5    0.010704\n",
      "2    0.008328\n",
      "7    0.007813\n",
      "6    0.006415\n",
      "dtype: float64\n",
      "{'init': 'epsg:4326'}\n"
     ]
    }
   ],
   "source": [
    "district_area = schools_districts.geometry.area\n",
    "\n",
    "print(district_area.sort_values(ascending=False))\n",
    "print(schools_districts.crs) # epsg:4326 -> area in decimal degress squared"
   ]
  },
  {
   "cell_type": "code",
   "execution_count": 29,
   "metadata": {},
   "outputs": [
    {
     "name": "stdout",
     "output_type": "stream",
     "text": [
      "0    3.664143e-08\n",
      "4    2.303041e-08\n",
      "8    1.500385e-08\n",
      "1    1.420460e-08\n",
      "3    1.412306e-08\n",
      "5    1.070442e-08\n",
      "2    8.328211e-09\n",
      "7    7.812501e-09\n",
      "6    6.414733e-09\n",
      "dtype: float64\n",
      "{'init': 'epsg:3857'}\n"
     ]
    }
   ],
   "source": [
    "schools_districts_3857 = gpd.GeoDataFrame(schools_districts, crs={'init': 'epsg:3857'})\n",
    "\n",
    "# squared meter to squared km\n",
    "sqm_to_sqkm = 10**6\n",
    "\n",
    "district_area_km = schools_districts_3857.geometry.area / sqm_to_sqkm\n",
    "print(district_area_km.sort_values(ascending=False)) # ---> VALORES NÂO BATEM COM OS APRESENTADOS! \n",
    "print(schools_districts_3857.crs)"
   ]
  },
  {
   "cell_type": "code",
   "execution_count": 30,
   "metadata": {},
   "outputs": [
    {
     "name": "stdout",
     "output_type": "stream",
     "text": [
      "  district                                        center\n",
      "0        1   POINT (-86.86086595994405 36.2628221811899)\n",
      "1        3  POINT (-86.72361421487962 36.28515517790142)\n",
      "2        2  POINT (-86.70156420691957 36.03021153030475)\n",
      "3        4  POINT (-86.63964402189863 36.19696692376599)\n",
      "4        9  POINT (-86.95428425398846 36.10392411644131)\n"
     ]
    }
   ],
   "source": [
    "schools_districts['center'] = schools_districts.geometry.centroid\n",
    "\n",
    "print(schools_districts[['district','center']].head())"
   ]
  },
  {
   "cell_type": "code",
   "execution_count": 31,
   "metadata": {},
   "outputs": [],
   "source": [
    "district_one = schools_districts.loc[schools_districts.district == '1']\n",
    "\n",
    "school['geometry'] = school.apply(lambda x: Point((x.Longitude, x.Latitude)), axis=1)\n",
    "\n",
    "s_crs = district_one.crs\n",
    "\n",
    "schools_geo = gpd.GeoDataFrame(school, crs=s_crs, geometry=school.geometry)"
   ]
  },
  {
   "cell_type": "code",
   "execution_count": 32,
   "metadata": {},
   "outputs": [
    {
     "name": "stdout",
     "output_type": "stream",
     "text": [
      "(30, 30)\n"
     ]
    }
   ],
   "source": [
    "schools_in_dist1 = gpd.sjoin(schools_geo, district_one, op='within')\n",
    "print(schools_in_dist1.shape)"
   ]
  },
  {
   "cell_type": "code",
   "execution_count": 33,
   "metadata": {},
   "outputs": [
    {
     "name": "stdout",
     "output_type": "stream",
     "text": [
      "{'Alex Green Elementary': 0.030287172719682773,\n",
      " 'Bellshire Elementary': 0.0988045140909651,\n",
      " 'Brick Church College Prep': 0.08961013862715599,\n",
      " 'Buena Vista Elementary': 0.10570511270825833,\n",
      " 'Cockrill Elementary': 0.1077685612196105,\n",
      " 'Creswell Middle Prep School of the Arts': 0.07071695528308394,\n",
      " 'Cumberland Elementary': 0.05107245423888074,\n",
      " 'Haynes Middle': 0.09051735342452247,\n",
      " 'Hull-Jackson Elementary': 0.09021711911422044,\n",
      " 'Ivanetta H. Davis Learning Center at Bordeaux': 0.07662457433119775,\n",
      " 'Joelton Elementary': 0.053341968112843634,\n",
      " 'Joelton Middle': 0.05125961450823257,\n",
      " 'John Early Middle': 0.09422796012374718,\n",
      " 'Jones Elementary': 0.10102567625424698,\n",
      " 'KIPP Nashville College Prep': 0.06251427354823408,\n",
      " 'KIPP Nashville College Prep Elementary': 0.062254750966657696,\n",
      " 'Moses McKissack Middle': 0.10691030507945888,\n",
      " 'Nashville Academy of Computer Science': 0.08320287768739988,\n",
      " 'Nashville Prep': 0.10066854450222189,\n",
      " 'Purpose Prep': 0.0952621018938427,\n",
      " 'RePublic High School': 0.08414813520169177,\n",
      " 'Robert Churchwell Elementary': 0.10147421750702793,\n",
      " 'Robert E. Lillard Elementary': 0.054205237245566786,\n",
      " 'Rocketship Nashville Northeast Elementary': 0.10736595517054183,\n",
      " 'Rocketship Partners Community Prep': 0.10731370860063087,\n",
      " 'The Academy at Old Cockrill': 0.1091794138248922,\n",
      " 'Transitions at Bass': 0.10820418312872454,\n",
      " 'W. A. Bass Adult Program': 0.10911995650061065,\n",
      " 'W.A. Bass Alternative Learning Center': 0.1086866342670367,\n",
      " 'Whites Creek High School': 0.044247595741240535}\n"
     ]
    }
   ],
   "source": [
    "import pprint\n",
    "\n",
    "distances = {}\n",
    "\n",
    "for row in schools_in_dist1.iterrows():\n",
    "    vals = row[1]\n",
    "    key = vals['School Name']\n",
    "    ctr = vals['center']\n",
    "    distances[key] = vals['geometry'].distance(ctr)\n",
    "\n",
    "pprint.pprint(distances)"
   ]
  },
  {
   "cell_type": "markdown",
   "metadata": {},
   "source": [
    "---"
   ]
  },
  {
   "cell_type": "markdown",
   "metadata": {},
   "source": [
    "## Folium\n",
    "\n",
    "- Python package\n",
    "- Interactive maps\n",
    "- Built upon Leaflet.js\n"
   ]
  },
  {
   "cell_type": "code",
   "execution_count": 35,
   "metadata": {},
   "outputs": [
    {
     "data": {
      "text/html": [
       "<div style=\"width:100%;\"><div style=\"position:relative;width:100%;height:0;padding-bottom:60%;\"><iframe src=\"data:text/html;charset=utf-8;base64,PCFET0NUWVBFIGh0bWw+CjxoZWFkPiAgICAKICAgIDxtZXRhIGh0dHAtZXF1aXY9ImNvbnRlbnQtdHlwZSIgY29udGVudD0idGV4dC9odG1sOyBjaGFyc2V0PVVURi04IiAvPgogICAgCiAgICAgICAgPHNjcmlwdD4KICAgICAgICAgICAgTF9OT19UT1VDSCA9IGZhbHNlOwogICAgICAgICAgICBMX0RJU0FCTEVfM0QgPSBmYWxzZTsKICAgICAgICA8L3NjcmlwdD4KICAgIAogICAgPHNjcmlwdCBzcmM9Imh0dHBzOi8vY2RuLmpzZGVsaXZyLm5ldC9ucG0vbGVhZmxldEAxLjUuMS9kaXN0L2xlYWZsZXQuanMiPjwvc2NyaXB0PgogICAgPHNjcmlwdCBzcmM9Imh0dHBzOi8vY29kZS5qcXVlcnkuY29tL2pxdWVyeS0xLjEyLjQubWluLmpzIj48L3NjcmlwdD4KICAgIDxzY3JpcHQgc3JjPSJodHRwczovL21heGNkbi5ib290c3RyYXBjZG4uY29tL2Jvb3RzdHJhcC8zLjIuMC9qcy9ib290c3RyYXAubWluLmpzIj48L3NjcmlwdD4KICAgIDxzY3JpcHQgc3JjPSJodHRwczovL2NkbmpzLmNsb3VkZmxhcmUuY29tL2FqYXgvbGlicy9MZWFmbGV0LmF3ZXNvbWUtbWFya2Vycy8yLjAuMi9sZWFmbGV0LmF3ZXNvbWUtbWFya2Vycy5qcyI+PC9zY3JpcHQ+CiAgICA8bGluayByZWw9InN0eWxlc2hlZXQiIGhyZWY9Imh0dHBzOi8vY2RuLmpzZGVsaXZyLm5ldC9ucG0vbGVhZmxldEAxLjUuMS9kaXN0L2xlYWZsZXQuY3NzIi8+CiAgICA8bGluayByZWw9InN0eWxlc2hlZXQiIGhyZWY9Imh0dHBzOi8vbWF4Y2RuLmJvb3RzdHJhcGNkbi5jb20vYm9vdHN0cmFwLzMuMi4wL2Nzcy9ib290c3RyYXAubWluLmNzcyIvPgogICAgPGxpbmsgcmVsPSJzdHlsZXNoZWV0IiBocmVmPSJodHRwczovL21heGNkbi5ib290c3RyYXBjZG4uY29tL2Jvb3RzdHJhcC8zLjIuMC9jc3MvYm9vdHN0cmFwLXRoZW1lLm1pbi5jc3MiLz4KICAgIDxsaW5rIHJlbD0ic3R5bGVzaGVldCIgaHJlZj0iaHR0cHM6Ly9tYXhjZG4uYm9vdHN0cmFwY2RuLmNvbS9mb250LWF3ZXNvbWUvNC42LjMvY3NzL2ZvbnQtYXdlc29tZS5taW4uY3NzIi8+CiAgICA8bGluayByZWw9InN0eWxlc2hlZXQiIGhyZWY9Imh0dHBzOi8vY2RuanMuY2xvdWRmbGFyZS5jb20vYWpheC9saWJzL0xlYWZsZXQuYXdlc29tZS1tYXJrZXJzLzIuMC4yL2xlYWZsZXQuYXdlc29tZS1tYXJrZXJzLmNzcyIvPgogICAgPGxpbmsgcmVsPSJzdHlsZXNoZWV0IiBocmVmPSJodHRwczovL3Jhd2Nkbi5naXRoYWNrLmNvbS9weXRob24tdmlzdWFsaXphdGlvbi9mb2xpdW0vbWFzdGVyL2ZvbGl1bS90ZW1wbGF0ZXMvbGVhZmxldC5hd2Vzb21lLnJvdGF0ZS5jc3MiLz4KICAgIDxzdHlsZT5odG1sLCBib2R5IHt3aWR0aDogMTAwJTtoZWlnaHQ6IDEwMCU7bWFyZ2luOiAwO3BhZGRpbmc6IDA7fTwvc3R5bGU+CiAgICA8c3R5bGU+I21hcCB7cG9zaXRpb246YWJzb2x1dGU7dG9wOjA7Ym90dG9tOjA7cmlnaHQ6MDtsZWZ0OjA7fTwvc3R5bGU+CiAgICAKICAgICAgICAgICAgPG1ldGEgbmFtZT0idmlld3BvcnQiIGNvbnRlbnQ9IndpZHRoPWRldmljZS13aWR0aCwKICAgICAgICAgICAgICAgIGluaXRpYWwtc2NhbGU9MS4wLCBtYXhpbXVtLXNjYWxlPTEuMCwgdXNlci1zY2FsYWJsZT1ubyIgLz4KICAgICAgICAgICAgPHN0eWxlPgogICAgICAgICAgICAgICAgI21hcF8wODZmMDgzZmE1NDU0NTEwYjE0ODNjOTcxOGEzMDdlNCB7CiAgICAgICAgICAgICAgICAgICAgcG9zaXRpb246IHJlbGF0aXZlOwogICAgICAgICAgICAgICAgICAgIHdpZHRoOiAxMDAuMCU7CiAgICAgICAgICAgICAgICAgICAgaGVpZ2h0OiAxMDAuMCU7CiAgICAgICAgICAgICAgICAgICAgbGVmdDogMC4wJTsKICAgICAgICAgICAgICAgICAgICB0b3A6IDAuMCU7CiAgICAgICAgICAgICAgICB9CiAgICAgICAgICAgIDwvc3R5bGU+CiAgICAgICAgCjwvaGVhZD4KPGJvZHk+ICAgIAogICAgCiAgICAgICAgICAgIDxkaXYgY2xhc3M9ImZvbGl1bS1tYXAiIGlkPSJtYXBfMDg2ZjA4M2ZhNTQ1NDUxMGIxNDgzYzk3MThhMzA3ZTQiID48L2Rpdj4KICAgICAgICAKPC9ib2R5Pgo8c2NyaXB0PiAgICAKICAgIAogICAgICAgICAgICB2YXIgbWFwXzA4NmYwODNmYTU0NTQ1MTBiMTQ4M2M5NzE4YTMwN2U0ID0gTC5tYXAoCiAgICAgICAgICAgICAgICAibWFwXzA4NmYwODNmYTU0NTQ1MTBiMTQ4M2M5NzE4YTMwN2U0IiwKICAgICAgICAgICAgICAgIHsKICAgICAgICAgICAgICAgICAgICBjZW50ZXI6IFs0OC44NTgzNzM2LCAyLjI5MjI5MjZdLAogICAgICAgICAgICAgICAgICAgIGNyczogTC5DUlMuRVBTRzM4NTcsCiAgICAgICAgICAgICAgICAgICAgem9vbTogMTIsCiAgICAgICAgICAgICAgICAgICAgem9vbUNvbnRyb2w6IHRydWUsCiAgICAgICAgICAgICAgICAgICAgcHJlZmVyQ2FudmFzOiBmYWxzZSwKICAgICAgICAgICAgICAgIH0KICAgICAgICAgICAgKTsKCiAgICAgICAgICAgIAoKICAgICAgICAKICAgIAogICAgICAgICAgICB2YXIgdGlsZV9sYXllcl82NGQxYjQ5MThhZDc0NmRlYjM1NzYzODdjMGU2NGNlNiA9IEwudGlsZUxheWVyKAogICAgICAgICAgICAgICAgImh0dHBzOi8ve3N9LnRpbGUub3BlbnN0cmVldG1hcC5vcmcve3p9L3t4fS97eX0ucG5nIiwKICAgICAgICAgICAgICAgIHsiYXR0cmlidXRpb24iOiAiRGF0YSBieSBcdTAwMjZjb3B5OyBcdTAwM2NhIGhyZWY9XCJodHRwOi8vb3BlbnN0cmVldG1hcC5vcmdcIlx1MDAzZU9wZW5TdHJlZXRNYXBcdTAwM2MvYVx1MDAzZSwgdW5kZXIgXHUwMDNjYSBocmVmPVwiaHR0cDovL3d3dy5vcGVuc3RyZWV0bWFwLm9yZy9jb3B5cmlnaHRcIlx1MDAzZU9EYkxcdTAwM2MvYVx1MDAzZS4iLCAiZGV0ZWN0UmV0aW5hIjogZmFsc2UsICJtYXhOYXRpdmVab29tIjogMTgsICJtYXhab29tIjogMTgsICJtaW5ab29tIjogMCwgIm5vV3JhcCI6IGZhbHNlLCAib3BhY2l0eSI6IDEsICJzdWJkb21haW5zIjogImFiYyIsICJ0bXMiOiBmYWxzZX0KICAgICAgICAgICAgKS5hZGRUbyhtYXBfMDg2ZjA4M2ZhNTQ1NDUxMGIxNDgzYzk3MThhMzA3ZTQpOwogICAgICAgIAo8L3NjcmlwdD4=\" style=\"position:absolute;width:100%;height:100%;left:0;top:0;border:none !important;\" allowfullscreen webkitallowfullscreen mozallowfullscreen></iframe></div></div>"
      ],
      "text/plain": [
       "<folium.folium.Map at 0x21f5ad47c18>"
      ]
     },
     "metadata": {},
     "output_type": "display_data"
    }
   ],
   "source": [
    "import folium\n",
    "\n",
    "eiffel_tower = folium.Map(location=[48.8583736, 2.2922926], zoom_start=12)\n",
    "\n",
    "display(eiffel_tower)"
   ]
  },
  {
   "cell_type": "markdown",
   "metadata": {},
   "source": [
    "## Adding a polygon to a folium map\n",
    "\n",
    "~~~\n",
    "center_point = district_one.center[0]\n",
    "\n",
    "district_center = [center_point.y, center_point.x]\n",
    "\n",
    "# create a folium map centered on district 1\n",
    "ditrict1_map = folium.Map(location=district_center)\n",
    "\n",
    "# add the outline of district one\n",
    "folium.GeoJson(district_one.geometry).add_to(ditrict1_map)\n",
    "~~~"
   ]
  },
  {
   "cell_type": "markdown",
   "metadata": {},
   "source": [
    "## Adding markers\n",
    "\n",
    "~~~\n",
    "# Iterate through the urban_art and print each part of tuple returned\n",
    "for row in urban_art.iterrows():\n",
    "  print('first part: ', row[0])\n",
    "  print('second part: ', row[1])\n",
    "\n",
    "# Create a location and marker with each iteration for the downtown_map\n",
    "for row in urban_art.iterrows():\n",
    "    row_values = row[1] \n",
    "    location = [row_values['lat'], row_values['lng']]\n",
    "    marker = folium.Marker(location = location)\n",
    "    marker.add_to(downtown_map)\n",
    "\n",
    "# Display the map\n",
    "display(downtown_map)\n",
    "~~~\n",
    "\n",
    "## Adding popups\n",
    "\n",
    "~~~\n",
    "# Construct downtown map\n",
    "downtown_map = folium.Map(location = nashville, zoom_start = 15)\n",
    "folium.GeoJson(urban_polygon).add_to(downtown_map)\n",
    "\n",
    "# Create popups inside the loop you built to create the markers\n",
    "for row in urban_art.iterrows():\n",
    "    row_values = row[1] \n",
    "    location = [row_values['lat'], row_values['lng']]\n",
    "    popup = (str(row_values['title']) + ': ' + \n",
    "             str(row_values['desc'])).replace(\"'\", \"`\")\n",
    "    marker = folium.Marker(location = location, popup = popup)\n",
    "    marker.add_to(downtown_map)\n",
    "\n",
    "# Display the map.\n",
    "display(downtown_map)\n",
    "~~~\n"
   ]
  },
  {
   "cell_type": "markdown",
   "metadata": {},
   "source": [
    "---"
   ]
  },
  {
   "cell_type": "markdown",
   "metadata": {},
   "source": [
    "## Preparing data for a choropleth\n",
    "\n",
    "~~~\n",
    "school_counts = schools_in_districts.groupby(['district']).size()\n",
    "\n",
    "school_counts_df = school_counts.to_frame()\n",
    "school_counts_df.reset_index(inplace=True)\n",
    "school_counts_df.columns = ['district', 'school_count']\n",
    "\n",
    "districts_with_counts = pd.merge(schools_districts, school_counts_df, on='district')\n",
    "\n",
    "districts_with_counts['area'] = districts_with_counts.geometry.area\n",
    "\n",
    "districts_with_counts['school_density'] = districts_with_counts.apply(lambda row: row.school_count/row.area, axis=1)\n",
    "~~~\n",
    "\n",
    "## Choropleth with `GeoDataFrame.plot()`\n",
    "\n",
    "~~~\n",
    "# numeric column\n",
    "districts_with_counts.plot(column='school_density', cmap='BuGn', edgecolor='black', legend=True)\n",
    "plt.title('Schools per decimal degrees squared area')\n",
    "plt.xlabel('Lng')\n",
    "plt.ylabel('Lat')\n",
    "~~~\n",
    "\n",
    "<img src='./IMAGES/schools-per-decimal-degrees.PNG'>\n",
    "\n",
    "## `folium.Map()` choropleth\n",
    "\n",
    "~~~\n",
    "nashville = [36.1636, -86.7823]\n",
    "\n",
    "m = folium.Map(location=nashville, zoom_start=10)\n",
    "\n",
    "m.choropleth(...)\n",
    "~~~\n",
    "\n",
    "## Arguments of the `folium` choropleth\n",
    "\n",
    "- `geo_data` : the source data for the polygons (geojson file or a GeoDataFrame)\n",
    "- `name` : the name of the geometry column (or geojson property) for the polygons\n",
    "- `data` : the source DataFrame or Series for the normalized data\n",
    "- `columns` : a list of columns, one that corresponds to the polygons and one that has  the value to plot\n",
    "\n",
    "## Additional arguments\n",
    "\n",
    "<img src='./IMAGES/additional-args.PNG'>\n",
    "\n",
    "~~~\n",
    "m.choropleth(\n",
    "geo_data=districts_with_counts,\n",
    "nema='geometry',\n",
    "data=districts_with_counts,\n",
    "columns=['district', 'school_density'],\n",
    "key_on='feature.properties.district',\n",
    "fill_color='YlGn',\n",
    "fill_opacity=0.75,\n",
    "line_opacity=0.5,\n",
    "legend_name='Schools per km sq. by School District'\n",
    ")\n",
    "~~~\n",
    "\n",
    "<img src='./IMAGES/folium-choropleth.PNG'>\n"
   ]
  },
  {
   "cell_type": "code",
   "execution_count": null,
   "metadata": {},
   "outputs": [],
   "source": []
  }
 ],
 "metadata": {
  "kernelspec": {
   "display_name": "Python 3",
   "language": "python",
   "name": "python3"
  },
  "language_info": {
   "codemirror_mode": {
    "name": "ipython",
    "version": 3
   },
   "file_extension": ".py",
   "mimetype": "text/x-python",
   "name": "python",
   "nbconvert_exporter": "python",
   "pygments_lexer": "ipython3",
   "version": "3.7.3"
  }
 },
 "nbformat": 4,
 "nbformat_minor": 2
}
