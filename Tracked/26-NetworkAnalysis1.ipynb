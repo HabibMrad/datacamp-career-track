{
 "cells": [
  {
   "cell_type": "markdown",
   "metadata": {},
   "source": [
    "## Networks\n",
    "\n",
    "- Insights:\n",
    "\t- Important entities: influencers in social network\n",
    "\t- Pathfinding: most efficient transport path\n",
    "\t- Clustering: finding communities\n",
    "\n",
    "<img src='./IMAGES/network-structure.PNG'>\n",
    "\n",
    "## NetworkX API basics\n",
    "\n",
    "~~~\n",
    "import networkx as nx\n",
    "import matplotlib.pyplot as plt\n",
    "\n",
    "G = nx.Graph()\n",
    "\n",
    "G.add_nodes_from([1, 2, 3])\n",
    "print(G.nodes())  # [1, 2, 3]\n",
    "\n",
    "G.add_edge(1,2)\n",
    "print(G.edges())  # [(1,2)]\n",
    "\n",
    "G.node[1]['label'] = 'blue'\n",
    "print(G.nodes(data=True))\n",
    "\n",
    "nx.draw(G)\n",
    "plt.show()\n",
    "~~~\n",
    "\n",
    "## Undirected graphs\n",
    "\n",
    "- The edges do not have an inherent directionality associated with them\n",
    "\n",
    "~~~\n",
    "G = nx.Graph()\n",
    "~~~\n",
    "\n",
    "## Directed graphs\n",
    "\n",
    "~~~\n",
    "D = nx.DiGraph()\n",
    "~~~\n",
    "\n",
    "## Multi-edge (directed) graphs\n",
    "\n",
    "~~~\n",
    "M = nx.MultiGraph()\n",
    "\n",
    "MD = nx.MultiDiGraph()\n",
    "~~~\n",
    "\n",
    "## Weights on graphs\n",
    "\n",
    "- Edges can contain weights\n",
    "\n",
    "## Self-loops\n",
    "\n",
    "- Nodes that are connected to themselves\n",
    "\n",
    "___\n",
    "\n",
    "~~~\n",
    "# Set the weight of the edge\n",
    "T.edges[1,10]['weight'] = 2\n",
    "\n",
    "# Iterate over all the edges (with metadata)\n",
    "for u, v, d in T.edges(data=True):\n",
    "\n",
    "    # Check if node 293 is involved\n",
    "    if 293 in [u, v]:\n",
    "\n",
    "        # Set the weight to 1.1\n",
    "        T.edges[u, v]['weight'] = 1.1\n",
    "~~~\n",
    "\n",
    "## Visualizing networks\n",
    "\n",
    "- Matrix plots\n",
    "\t- In an undirected graph, the matrix is symmetric around the main diagonal\n",
    "\n",
    "<img src='./IMAGES/matrix-plot.PNG'>\n",
    "\n",
    "- Arc plots\n",
    "\n",
    "<img src='./IMAGES/arc-plot.PNG'>\n",
    "\n",
    "- Circos plots\n",
    "\t- transformation of the arc plot, so that the two ends are connected, forming a circle\n",
    "\n",
    "<img src='./IMAGES/circos-plot.PNG'>\n",
    "\n",
    "## `nxviz` API\n",
    "\n",
    "~~~\n",
    "import nxviz as nv\n",
    "import matplotlib.pyplot as plt\n",
    "\n",
    "ap = nv.ArcPlot(G)\n",
    "\n",
    "ap.draw()\n",
    "plt.show()\n",
    "~~~\n",
    "\n",
    "***\n",
    "\n",
    "~~~\n",
    "# Import necessary modules\n",
    "import matplotlib.pyplot as plt\n",
    "from nxviz import ArcPlot\n",
    "\n",
    "# Create the un-customized ArcPlot object: a\n",
    "a = ArcPlot(T)\n",
    "\n",
    "# Draw a to the screen\n",
    "a.draw()\n",
    "\n",
    "# Display the plot\n",
    "plt.show()\n",
    "\n",
    "# Create the customized ArcPlot object: a2\n",
    "a2 = ArcPlot(T, node_order='category', node_color='category')\n",
    "\n",
    "# Draw a2 to the screen\n",
    "a2.draw()\n",
    "\n",
    "# Display the plot\n",
    "plt.show()\n",
    "~~~\n"
   ]
  },
  {
   "cell_type": "markdown",
   "metadata": {},
   "source": [
    "## Degree centrality\n",
    "\n",
    "- Definition: $\\displaystyle\\frac{\\textrm{Number of neighbours I have}}{\\textrm{Number of neighbours I could possibly have}}$\n",
    "\n",
    "- If self-loops are allowed: denominator = number of nodes\n",
    "- Otherwise: denominator = number of nodes - 1\n",
    "\n",
    "~~~\n",
    "nx.degree_centrality(G)\n",
    "# returns a dict\n",
    "# self-loops not considered\n",
    "~~~\n",
    "\n",
    "## Number of neighbors\n",
    "\n",
    "~~~\n",
    "G.neighbors(1)\n",
    "# returns a list\n",
    "~~~\n",
    "\n",
    "## Breadth-first search (BFS)\n",
    "\n",
    "~~~\n",
    "\n",
    "def path_exists(G, node1, node2):\n",
    "    \"\"\"\n",
    "    This function checks whether a path exists between two nodes (node1, node2) in graph G.\n",
    "    \"\"\"\n",
    "    visited_nodes = set()\n",
    "    queue = [node1]\n",
    "\n",
    "    for node in queue:\n",
    "        neighbors = G.neighbors(node)\n",
    "        if node2 in neighbors:\n",
    "            print('Path exists between nodes {0} and {1}'.format(node1, node2))\n",
    "            return True\n",
    "            break\n",
    "\n",
    "        else:\n",
    "            visited_nodes.add(node)\n",
    "            queue.extend([n for n in neighbors if n not in visited_nodes])\n",
    "\n",
    "        # Check to see if the final element of the queue has been reached\n",
    "        if node == queue[-1]:\n",
    "            print('Path does not exist between nodes {0} and {1}'.format(node1, node2))\n",
    "\n",
    "            # Place the appropriate return statement\n",
    "            return False\n",
    "~~~\n",
    "\n",
    "## All shortest paths\n",
    "\n",
    "- Set of paths\n",
    "- Each path is shortest path between a given pair of nodes\n",
    "- Done for all node pairs\n",
    "\n",
    "## Betweenness centrality\n",
    "\n",
    "- Definition: $\\displaystyle\\frac{\\textrm{num. shortest paths through node}}{\\textrm{all possible shortest paths}}$\n",
    "\n",
    "~~~\n",
    "import networkx as nx\n",
    "\n",
    "G = nx.barbell_graph(m1=5, m2=1)\n",
    "# m1: nodes in the ends\n",
    "# m2: nodes in the bridge\n",
    "\n",
    "nx.betweenness_centrality(G)\n",
    "# returns a dict\n",
    "~~~\n",
    "\n",
    "<img src='./IMAGES/barbell-graph.png'>\n"
   ]
  },
  {
   "cell_type": "markdown",
   "metadata": {},
   "source": [
    "## Cliques\n",
    "\n",
    "- Social cliques: tightly-knit groups\n",
    "- Simplest complex clique: a triangle\n",
    "\n",
    "~~~\n",
    "from itertools import combinations\n",
    "\n",
    "for n1, n2 in combinations(G.nodes(), 2):\n",
    "\tprint(n1, n2)\n",
    "~~~\n",
    "\n",
    "## Maximal cliques\n",
    "\n",
    "- A clique that, when extended by one node, is no longer a clique\n",
    "\n",
    "- `nx.find_cliques(G)` finds all **maximal** cliques\n"
   ]
  },
  {
   "cell_type": "code",
   "execution_count": 1,
   "metadata": {},
   "outputs": [],
   "source": [
    "import networkx as nx"
   ]
  },
  {
   "cell_type": "code",
   "execution_count": 2,
   "metadata": {},
   "outputs": [
    {
     "name": "stdout",
     "output_type": "stream",
     "text": [
      "[[4, 0, 1, 2, 3], [4, 5], [6, 5], [6, 7, 8, 9, 10]]\n"
     ]
    }
   ],
   "source": [
    "G = nx.barbell_graph(m1=5, m2=1)\n",
    "\n",
    "print(list(nx.find_cliques(G)))"
   ]
  },
  {
   "cell_type": "markdown",
   "metadata": {},
   "source": [
    "## Subgraphs\n",
    "\n",
    "- Visualize portions of a large graph\n",
    "\t- Paths\n",
    "\t- Communities/cliques\n",
    "\t- Degrees of separation from a node\n"
   ]
  },
  {
   "cell_type": "code",
   "execution_count": 3,
   "metadata": {},
   "outputs": [],
   "source": [
    "import matplotlib.pyplot as plt"
   ]
  },
  {
   "cell_type": "code",
   "execution_count": 4,
   "metadata": {},
   "outputs": [
    {
     "name": "stdout",
     "output_type": "stream",
     "text": [
      "[(3, 8), (7, 8), (8, 14), (8, 15)]\n"
     ]
    }
   ],
   "source": [
    "G = nx.erdos_renyi_graph(n=20, p=0.2)\n",
    "\n",
    "nodes = list(G.neighbors(8))\n",
    "nodes.append(8)\n",
    "\n",
    "G_eight = G.subgraph(nodes)\n",
    "print(G_eight.edges())\n",
    "\n",
    "#nx.draw(G_eight, with_labels=True)\n",
    "#plt.show()"
   ]
  },
  {
   "cell_type": "code",
   "execution_count": 8,
   "metadata": {},
   "outputs": [],
   "source": [
    "github = nx.read_gpickle('./DATASETS/github_users.p')"
   ]
  },
  {
   "cell_type": "markdown",
   "metadata": {},
   "source": [
    "For more about reading graphs from pickle files, see [this link](https://stackoverflow.com/questions/52027292/construct-networkx-graph-from-p-picked-file)."
   ]
  },
  {
   "cell_type": "code",
   "execution_count": 9,
   "metadata": {},
   "outputs": [
    {
     "data": {
      "image/png": "[encoded data removed]",
      "text/plain": [
       "<Figure size 432x288 with 1 Axes>"
      ]
     },
     "metadata": {
      "needs_background": "light"
     },
     "output_type": "display_data"
    }
   ],
   "source": [
    "# Plot the degree distribution of the GitHub collaboration network\n",
    "plt.hist(list(nx.degree_centrality(github).values()))\n",
    "plt.show()"
   ]
  },
  {
   "cell_type": "code",
   "execution_count": null,
   "metadata": {},
   "outputs": [],
   "source": [
    "# Plot the degree distribution of the GitHub collaboration network\n",
    "#plt.hist(list(nx.betweenness_centrality(github).values()))\n",
    "#plt.show()\n",
    "\n",
    "nx.draw(github)\n",
    "plt.show()"
   ]
  },
  {
   "cell_type": "code",
   "execution_count": 13,
   "metadata": {},
   "outputs": [
    {
     "name": "stdout",
     "output_type": "stream",
     "text": [
      "[<networkx.classes.graph.Graph object at 0x000001EE51E6E940>, <networkx.classes.graph.Graph object at 0x000001EE51E6E978>, <networkx.classes.graph.Graph object at 0x000001EE51E6E2B0>, <networkx.classes.graph.Graph object at 0x000001EE51E6E9B0>, <networkx.classes.graph.Graph object at 0x000001EE512E06D8>]\n"
     ]
    }
   ],
   "source": [
    "G = nx.erdos_renyi_graph(n=100, p=0.03)\n",
    "\n",
    "print(list(nx.connected_component_subgraphs(G)))"
   ]
  },
  {
   "cell_type": "code",
   "execution_count": null,
   "metadata": {},
   "outputs": [],
   "source": []
  },
  {
   "cell_type": "code",
   "execution_count": null,
   "metadata": {},
   "outputs": [],
   "source": []
  }
 ],
 "metadata": {
  "kernelspec": {
   "display_name": "Python 3",
   "language": "python",
   "name": "python3"
  },
  "language_info": {
   "codemirror_mode": {
    "name": "ipython",
    "version": 3
   },
   "file_extension": ".py",
   "mimetype": "text/x-python",
   "name": "python",
   "nbconvert_exporter": "python",
   "pygments_lexer": "ipython3",
   "version": "3.7.3"
  }
 },
 "nbformat": 4,
 "nbformat_minor": 2
}
