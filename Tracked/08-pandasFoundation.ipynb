{
 "cells": [
  {
   "cell_type": "markdown",
   "metadata": {},
   "source": [
    "Building a DataFRame using *zip()*:"
   ]
  },
  {
   "cell_type": "markdown",
   "metadata": {},
   "source": [
    "~~~\n",
    "# Zip the 2 lists together into one list of (key,value) tuples: zipped\n",
    "zipped = list(zip(list_keys,list_values))\n",
    "\n",
    "# Inspect the list using print()\n",
    "print(zipped)\n",
    "\n",
    "# Build a dictionary with the zipped list: data\n",
    "data = dict(zipped)\n",
    "\n",
    "# Build and inspect a DataFrame from the dictionary: df\n",
    "df = pd.DataFrame(data)\n",
    "print(df)\n",
    "~~~"
   ]
  },
  {
   "cell_type": "markdown",
   "metadata": {},
   "source": [
    "### Importing & exporting data\n",
    "\n",
    "**Problems**:\n",
    "\n",
    "- CSV file has no column headers\n",
    "\t- Columns 0-2: Gregorian data (Y, M, D)\n",
    "\t- Column 3: Date as fraction of the year\n",
    "\t- Column 4: Daily total sunspot number\n",
    "\t- Column 5: Defintive/provisional indicator (1 or 0)\n",
    "- Missing values in column 4: indicated by -1\n",
    "- Dates representation is inconvenient\n",
    "\n",
    "~~~\n",
    "col_names = [...]\n",
    "\n",
    "sunspots = pd.read_csv(filepath,\n",
    "\t\t\theader=None,\n",
    "\t\t\tnames=col_names,\n",
    "\t\t\tna_values={'sunspots':[' -1']},\n",
    "\t\t\tparse_dates=[[0,1,2]])\n",
    "\n",
    "sunspots.index = sunspots['year_month_day']\n",
    "sunspots.index.name = 'date'\n",
    "\n",
    "cols = ['sunspots','definite']\n",
    "sunspots = sunspots[cols]\n",
    "\n",
    "out_csv = 'sunspots.csv'\n",
    "sunspots.to_csv(out_csv)\n",
    "\n",
    "out_tsv = 'sunspots.tsv'\n",
    "sunspots.to_csv(out_tsv,sep='\\t')\n",
    "\n",
    "out_xlsx = 'sunspots.xlsx'\n",
    "sunspots.to_excel(out_xlsx)\n",
    "~~~"
   ]
  },
  {
   "cell_type": "markdown",
   "metadata": {},
   "source": [
    "#### Word of warning!\n",
    "\n",
    "- Three different DataFrame plot idioms\n",
    "\t- *iris.plot(kind='hist')*\n",
    "\t- *iris.plt.hist()*\n",
    "\t- *iris.hist()*\n",
    "- Syntax/results differ!"
   ]
  },
  {
   "cell_type": "markdown",
   "metadata": {},
   "source": [
    "#### Statistical EDA\n",
    "\n",
    "~~~\n",
    "describe_all = iris.describe()\n",
    "\n",
    "describe_setosa = setosa.describe()\n",
    "describe_versicolor = versicolor.describe()\n",
    "describe_virginia = virginica.describe()\n",
    "\n",
    "# Computing errors\n",
    "\n",
    "error_setosa = 100 * np.abs(describe_setosa - describe_all)/ describe_setosa\n",
    "...\n",
    "\n",
    "~~~"
   ]
  },
  {
   "cell_type": "markdown",
   "metadata": {},
   "source": [
    "#### Using pandas to read datetime objects\n",
    "\n",
    "- *read_csv()* function\n",
    "\t- Can read strings into datetime objects\n",
    "\t- Need to specify 'parse_dates=True'\n",
    "- ISO 8601 format\n",
    "\t- yyyy-mm-dd hh:mm:ss\n",
    "\n",
    "#### Selecting datetime\n",
    "\n",
    "- Selecting whole day:\n",
    "\n",
    "~~~\n",
    "sales.loc['2015-2-5']\n",
    "~~~\n",
    "\n",
    "- Partial datetime string selection\n",
    "\t- sales.loc['February 5, 2015']\n",
    "\t- sales.loc['2015-Feb-5']\n",
    "- Whole month: sales.loc['2015-2']\n",
    "- Whole year: sales.loc['2015']\n",
    "- Slicing:\n",
    "\n",
    "~~~\n",
    "sales.loc['2015-2-16':'2015-2-20']\n",
    "~~~"
   ]
  },
  {
   "cell_type": "markdown",
   "metadata": {},
   "source": [
    "**Converting strings to datetime**\n",
    "\n",
    "~~~\n",
    "evening_2_11 = pd.to_datetime(['2015-2-11 20:00',\n",
    "\t\t\t\t'2015-2-11 21:00',\n",
    "\t\t\t\t'2015-2-11 22:00',\n",
    "\t\t\t\t'2015-2-11 23:00'])\n",
    "~~~\n",
    "\n",
    "#### Reindexing DataFrame\n",
    "\n",
    "~~~\n",
    "sales.reindex(evening_2_11)\n",
    "~~~\n",
    "\n",
    "**Filling missing values**:\n",
    "\n",
    "~~~\n",
    "sales.reindex(evening_2_11, method='ffill')\n",
    "\n",
    "sales.reindex(evening_2_11, method='bfill')\n",
    "~~~"
   ]
  },
  {
   "cell_type": "markdown",
   "metadata": {},
   "source": [
    "#### Resampling\n",
    "\n",
    "- Statistical methods over different time intervals\n",
    "\t- mean(), sum(), count(), etc.\n",
    "- Downsampling\n",
    "\t- reduce datetime rows to slower frequency\n",
    "- Upsampling\n",
    "\t- increase datetime rows to faster frequency\n",
    "\t- ex: daily to hourly\n",
    "\n",
    "~~~\n",
    "daily_mean = sales.resample('D').mean()\n",
    "~~~\n",
    "\n",
    "1) The method resample() needs a string to specify frequency ('D' = daily);\n",
    "2) It is best practice to follow resample() with some statistical method;\n",
    "3) The result is a DataFrame with daily frequency for Feb, 2015 with the avg. number of units sold each day.\n",
    "\n",
    "**Upsampling and filling**\n",
    "\n",
    "~~~\n",
    "two_days = sales.loc['2015-2-4':'2015-2-5','Units']\n",
    "\n",
    "two_days.resample('4H').ffill()\n",
    "~~~\n"
   ]
  },
  {
   "cell_type": "markdown",
   "metadata": {},
   "source": [
    "~~~\n",
    "# Extract data from 2010-Aug-01 to 2010-Aug-15: unsmoothed\n",
    "unsmoothed = df['Temperature']['2010-8-1':'2010-8-15']\n",
    "\n",
    "# Apply a rolling mean with a 24 hour window: smoothed\n",
    "smoothed = unsmoothed.rolling(window=24).mean()\n",
    "\n",
    "# Create a new DataFrame with columns smoothed and unsmoothed: august\n",
    "august = pd.DataFrame({'smoothed':smoothed, 'unsmoothed':unsmoothed})\n",
    "\n",
    "# Plot both smoothed and unsmoothed data using august.plot().\n",
    "august.plot()\n",
    "plt.show()\n",
    "~~~"
   ]
  },
  {
   "cell_type": "markdown",
   "metadata": {},
   "source": [
    "#### str attribute\n",
    "\n",
    "~~~\n",
    "sales['Company'].str.upper()\n",
    "\n",
    "sales['Product'].str.contains('ware')\n",
    "~~~\n",
    "\n",
    "**Boolean reduction**\n",
    "\n",
    "~~~\n",
    "sales['Product'].str.contains('ware').sum()\n",
    "~~~\n",
    "\n",
    "#### dt attribute\n",
    "\n",
    "~~~\n",
    "sales['Date'].dt.hour\n",
    "~~~\n",
    "\n",
    "**Set timezone**\n",
    "\n",
    "~~~\n",
    "central = sales['Date'].dt.tz_localize('US/Central')\n",
    "\n",
    "\n",
    "central.dt.tz_convert('US/Eastern')\n",
    "~~~\n",
    "\n",
    "#### Interpolate missing data\n",
    "\n",
    "~~~\n",
    "population.resample('A').first().interpolate('linear')\n",
    "~~~"
   ]
  },
  {
   "cell_type": "markdown",
   "metadata": {},
   "source": [
    "### Visualizing pandas time series\n",
    "\n",
    "#### Plot styles\n",
    "\n",
    "~~~\n",
    "sp500.loc['2012-4','Close'].plot(style='k.-',\n",
    "\t\t\t\ttitle='S&P500')\n",
    "\n",
    "plt.ylabel('Closing Price (US Dollars)')\n",
    "\n",
    "plt.show()\n",
    "~~~\n",
    "\n",
    "- Style format string\n",
    "\t- color (k : black)\n",
    "\t- marker (. : dot)\n",
    "\t- line type (- : solid)\n",
    "\n",
    "#### Subplots\n",
    "\n",
    "~~~\n",
    "sp500.loc['2012',['Close','Volume']].plot(subplots=True)\n",
    "\n",
    "plt.show()\n",
    "~~~"
   ]
  },
  {
   "cell_type": "code",
   "execution_count": 1,
   "metadata": {},
   "outputs": [
    {
     "data": {
      "image/png": "[encoded data removed]",
      "text/plain": [
       "<IPython.core.display.Image object>"
      ]
     },
     "execution_count": 1,
     "metadata": {},
     "output_type": "execute_result"
    }
   ],
   "source": [
    "from IPython.display import Image\n",
    "Image('./IMAGES/plot-styles.PNG')"
   ]
  },
  {
   "cell_type": "code",
   "execution_count": null,
   "metadata": {},
   "outputs": [],
   "source": []
  }
 ],
 "metadata": {
  "kernelspec": {
   "display_name": "Python 3",
   "language": "python",
   "name": "python3"
  },
  "language_info": {
   "codemirror_mode": {
    "name": "ipython",
    "version": 3
   },
   "file_extension": ".py",
   "mimetype": "text/x-python",
   "name": "python",
   "nbconvert_exporter": "python",
   "pygments_lexer": "ipython3",
   "version": "3.7.3"
  }
 },
 "nbformat": 4,
 "nbformat_minor": 2
}
