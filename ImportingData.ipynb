{
 "cells": [
  {
   "cell_type": "markdown",
   "metadata": {},
   "source": [
    "~~~\n",
    "filename = 'huck_finn.txt'\n",
    "\n",
    "file = open(filename, mode='r') # 'r' is to read\n",
    "\n",
    "text = file.read()\n",
    "\n",
    "file.close()\n",
    "\n",
    "print(text)\n",
    "~~~"
   ]
  },
  {
   "cell_type": "markdown",
   "metadata": {},
   "source": [
    "#### Context Manager"
   ]
  },
  {
   "cell_type": "markdown",
   "metadata": {},
   "source": [
    "~~~\n",
    "with open('huck_finn.txt','r') as file:\n",
    "\tprint(file.read())\n",
    "~~~"
   ]
  },
  {
   "cell_type": "markdown",
   "metadata": {},
   "source": [
    "**Flat files**: basic text files containing records. That is, table data."
   ]
  },
  {
   "cell_type": "code",
   "execution_count": 4,
   "metadata": {},
   "outputs": [
    {
     "name": "stdout",
     "output_type": "stream",
     "text": [
      "[['Ana' 13]\n",
      " ['Bob' 28]\n",
      " ['Carol' 55]]\n"
     ]
    }
   ],
   "source": [
    "import pandas as pd\n",
    "\n",
    "dic = {'Name': ['Ana', 'Bob', 'Carol'], 'Age': [13, 28, 55]}\n",
    "data = pd.DataFrame(dic)\n",
    "\n",
    "print(data.to_numpy())"
   ]
  },
  {
   "cell_type": "markdown",
   "metadata": {},
   "source": [
    "**Pickled files**:\n",
    "\n",
    "~~~\n",
    "import pickle\n",
    "\n",
    "with open('pickled_fruit.pkl','rb') as file:\n",
    "\tdata = pickle.load(file)\n",
    "\n",
    "print(data)\n",
    "~~~"
   ]
  },
  {
   "cell_type": "markdown",
   "metadata": {},
   "source": [
    "**Excel files**:\n",
    "\n",
    "~~~\n",
    "import pandas as pd\n",
    "\n",
    "file = 'urbanpop.xlsx'\n",
    "\n",
    "data = pd.ExcelFile(file)\n",
    "\n",
    "print(data.sheet_names)\n",
    "\n",
    "df1 = data.parse('1960-1966')\n",
    "df2 = data.parse(0)\n",
    "~~~"
   ]
  },
  {
   "cell_type": "markdown",
   "metadata": {},
   "source": [
    "Listing the working directory:\n",
    "\n",
    "~~~\n",
    "import os\n",
    "wd = os.getcwd()\n",
    "os.listdir(wd)\n",
    "~~~"
   ]
  },
  {
   "cell_type": "markdown",
   "metadata": {},
   "source": [
    "#### SAS and SATA files"
   ]
  },
  {
   "cell_type": "markdown",
   "metadata": {},
   "source": [
    "~~~\n",
    "import pandas as pd\n",
    "\n",
    "# SAS files\n",
    "\n",
    "from sas7bdat import SAS7BDAT\n",
    "\n",
    "with SAS7BDAT('urbanpop.sas7bdat') as file:\n",
    "\tdf_sas = file.to_data_frame()\n",
    "\n",
    "# Stata files\n",
    "\n",
    "data = pd.read_stata('urbanpop.dta')\n",
    "~~~"
   ]
  },
  {
   "cell_type": "markdown",
   "metadata": {},
   "source": [
    "#### HDF5 files\n",
    "\n",
    "Standard for storing large quantities of numerical data.\n",
    "\n",
    "Can scale to exabytes."
   ]
  },
  {
   "cell_type": "markdown",
   "metadata": {},
   "source": [
    "~~~\n",
    "import h5py\n",
    "\n",
    "filename = 'H-H1_LOSC_4_V1-815411200-4096.hdf5'\n",
    "\n",
    "data = h5py.File(filename,'r')\n",
    "\n",
    "print(type(data))\n",
    "\n",
    "for key in data.keys():\n",
    "\tprint(key) # meta, quality, strain\n",
    "\n",
    "~~~"
   ]
  },
  {
   "cell_type": "markdown",
   "metadata": {},
   "source": [
    "#### MATLAB files"
   ]
  },
  {
   "cell_type": "markdown",
   "metadata": {},
   "source": [
    "~~~\n",
    "scipy.io.loadmat() # read .mat files\n",
    "\n",
    "scipy.io.savemat() # write .mat files\n",
    "~~~"
   ]
  },
  {
   "cell_type": "markdown",
   "metadata": {},
   "source": [
    "~~~\n",
    "import scipy.io\n",
    "\n",
    "filename = 'workspace.mat'\n",
    "\n",
    "mat = scipy.io.loadmat(filename)\n",
    "\n",
    "print(type(mat)) # dict!\n",
    "\n",
    "# keys: MATLAB var names\n",
    "# values: objects assigned to vars\n",
    "~~~"
   ]
  },
  {
   "cell_type": "markdown",
   "metadata": {},
   "source": [
    "### Intro to relational DBs"
   ]
  },
  {
   "cell_type": "markdown",
   "metadata": {},
   "source": [
    "Using SQLAlchemy:\n",
    "\n",
    "~~~\n",
    "from sqlalchemy import import create_engine\n",
    "\n",
    "engine = create_engine('sqlite:///Northwind.sqlite')\n",
    "\n",
    "table_names = engine.table_names()\n",
    "~~~"
   ]
  },
  {
   "cell_type": "markdown",
   "metadata": {},
   "source": [
    "**Workflow of SQL querying**:\n",
    "\n",
    "- Import packages and functions\n",
    "- Create the database engine\n",
    "- Connect to the engine\n",
    "- Query the database\n",
    "- Save query results to a DataFrame\n",
    "- Close the connection"
   ]
  },
  {
   "cell_type": "markdown",
   "metadata": {},
   "source": [
    "Connecting...\n",
    "\n",
    "~~~\n",
    "from sqlalchemy import create_engine\n",
    "\n",
    "import pandas as pd\n",
    "\n",
    "engine = create_engine('sqlite:///Northwind.sqlite')\n",
    "\n",
    "con = engine.connect()\n",
    "\n",
    "rs = con.execute('SELECT * FROM Orders')\n",
    "\n",
    "df = pd.DataFrame(rs.fecthall())\n",
    "\n",
    "df.columns = rs.keys()\n",
    "\n",
    "con.close()\n",
    "~~~"
   ]
  },
  {
   "cell_type": "markdown",
   "metadata": {},
   "source": [
    "Using context manager:\n",
    "\n",
    "~~~\n",
    "from sqlalchemy import create_engine\n",
    "\n",
    "import pandas as pd\n",
    "\n",
    "engine = create_engine('sqlite:///Northwind.sqlite')\n",
    "\n",
    "with engine.connect() as con:\n",
    "    rs = con.execute('SELECT OrderID, OrderDate, ShipName FROM Orders')\n",
    "\n",
    "    df = pd.DataFrame(rs.fecthmany(size=5))\n",
    "\n",
    "    df.columns = rs.keys()\n",
    "\n",
    "~~~"
   ]
  },
  {
   "cell_type": "markdown",
   "metadata": {},
   "source": [
    "**The Pandas Way**:\n",
    "\n",
    "~~~\n",
    "from sqlalchemy import create_engine\n",
    "\n",
    "import pandas as pd\n",
    "\n",
    "engine = create_engine('sqlite:///Northwind.sqlite')\n",
    "\n",
    "df = pd.read_sql_query('SELECT * FROM Orders',engine)\n",
    "~~~"
   ]
  },
  {
   "cell_type": "markdown",
   "metadata": {},
   "source": [
    "**INNER JOIN in Python**:\n",
    "~~~\n",
    "df = pd.read_sql_query('SELECT OrderId, CompanyName FROM Orders INNER JOIN Customers on Orders.CustomerId = Customers.CustomersId',engine)\n",
    "~~~"
   ]
  },
  {
   "cell_type": "code",
   "execution_count": null,
   "metadata": {},
   "outputs": [],
   "source": []
  }
 ],
 "metadata": {
  "kernelspec": {
   "display_name": "Python 3",
   "language": "python",
   "name": "python3"
  },
  "language_info": {
   "codemirror_mode": {
    "name": "ipython",
    "version": 3
   },
   "file_extension": ".py",
   "mimetype": "text/x-python",
   "name": "python",
   "nbconvert_exporter": "python",
   "pygments_lexer": "ipython3",
   "version": "3.7.3"
  }
 },
 "nbformat": 4,
 "nbformat_minor": 2
}
